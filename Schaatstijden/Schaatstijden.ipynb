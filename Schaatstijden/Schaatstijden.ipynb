{
 "cells": [
  {
   "cell_type": "markdown",
   "metadata": {},
   "source": [
    "# VA 2021-2022 sem-1 Opdracht 1"
   ]
  },
  {
   "cell_type": "markdown",
   "metadata": {},
   "source": [
    "Vul hier je naam in: \n",
    "\n",
    "- Omer Erdem, Klas 3, 500802898\n",
    "- Safak Inan, Klas 1, 500802749"
   ]
  },
  {
   "cell_type": "markdown",
   "metadata": {},
   "source": [
    "## Deadline"
   ]
  },
  {
   "cell_type": "markdown",
   "metadata": {},
   "source": [
    "De deadline voor deze opdracht is: 10 september 17:59"
   ]
  },
  {
   "cell_type": "markdown",
   "metadata": {},
   "source": [
    "## Deel 1 - Schaatsen"
   ]
  },
  {
   "cell_type": "markdown",
   "metadata": {},
   "source": [
    "We gaan kijken naar de 500m meter tijden van de broers Ronald en Michel Mulder geschaatst in Thialf (bron:osta.nl). De dataset is te vinden op BrightSpace. Zorg dat deze dataset zich in dezelfde map als deze notebook zit. Ter voorbereiding op een visualisatie nemen we de volgende stappen.\n",
    "* We laden de package `pandas` in en noemen het `pd`.\n",
    "* We gebruiken de functie `head` om de eerste vijf regels uit de dataset te bekijken.\n",
    "* We gebruiken de functie `info` om de structuur van de dataset te bekijken.\n",
    "* We gebruiken de functie `describe` om de statische waarden te bekijken."
   ]
  },
  {
   "cell_type": "code",
   "execution_count": 1,
   "metadata": {},
   "outputs": [],
   "source": [
    "import pandas as pd\n",
    "schaatstijden = pd.read_csv('Schaatstijden500m.csv')\n",
    "schaatstijden['Datum'] = pd.to_datetime(schaatstijden['Datum'])"
   ]
  },
  {
   "cell_type": "code",
   "execution_count": 2,
   "metadata": {},
   "outputs": [
    {
     "data": {
      "text/plain": "    Tijd      Datum                  Ijsbaan  Rijder\n0  89.80 2020-01-26  IJsstadion Thialf (NED)  Ronald\n1  34.86 2020-01-25  IJsstadion Thialf (NED)  Ronald\n2  34.92 2020-01-18  IJsstadion Thialf (NED)  Ronald\n3  35.27 2019-12-27  IJsstadion Thialf (NED)  Michel\n4  35.38 2019-12-27  IJsstadion Thialf (NED)  Ronald",
      "text/html": "<div>\n<style scoped>\n    .dataframe tbody tr th:only-of-type {\n        vertical-align: middle;\n    }\n\n    .dataframe tbody tr th {\n        vertical-align: top;\n    }\n\n    .dataframe thead th {\n        text-align: right;\n    }\n</style>\n<table border=\"1\" class=\"dataframe\">\n  <thead>\n    <tr style=\"text-align: right;\">\n      <th></th>\n      <th>Tijd</th>\n      <th>Datum</th>\n      <th>Ijsbaan</th>\n      <th>Rijder</th>\n    </tr>\n  </thead>\n  <tbody>\n    <tr>\n      <th>0</th>\n      <td>89.80</td>\n      <td>2020-01-26</td>\n      <td>IJsstadion Thialf (NED)</td>\n      <td>Ronald</td>\n    </tr>\n    <tr>\n      <th>1</th>\n      <td>34.86</td>\n      <td>2020-01-25</td>\n      <td>IJsstadion Thialf (NED)</td>\n      <td>Ronald</td>\n    </tr>\n    <tr>\n      <th>2</th>\n      <td>34.92</td>\n      <td>2020-01-18</td>\n      <td>IJsstadion Thialf (NED)</td>\n      <td>Ronald</td>\n    </tr>\n    <tr>\n      <th>3</th>\n      <td>35.27</td>\n      <td>2019-12-27</td>\n      <td>IJsstadion Thialf (NED)</td>\n      <td>Michel</td>\n    </tr>\n    <tr>\n      <th>4</th>\n      <td>35.38</td>\n      <td>2019-12-27</td>\n      <td>IJsstadion Thialf (NED)</td>\n      <td>Ronald</td>\n    </tr>\n  </tbody>\n</table>\n</div>"
     },
     "execution_count": 2,
     "metadata": {},
     "output_type": "execute_result"
    }
   ],
   "source": [
    "schaatstijden.head()"
   ]
  },
  {
   "cell_type": "code",
   "execution_count": 3,
   "metadata": {},
   "outputs": [
    {
     "name": "stdout",
     "output_type": "stream",
     "text": [
      "<class 'pandas.core.frame.DataFrame'>\n",
      "RangeIndex: 76 entries, 0 to 75\n",
      "Data columns (total 4 columns):\n",
      " #   Column   Non-Null Count  Dtype         \n",
      "---  ------   --------------  -----         \n",
      " 0   Tijd     76 non-null     float64       \n",
      " 1   Datum    76 non-null     datetime64[ns]\n",
      " 2   Ijsbaan  76 non-null     object        \n",
      " 3   Rijder   76 non-null     object        \n",
      "dtypes: datetime64[ns](1), float64(1), object(2)\n",
      "memory usage: 2.5+ KB\n"
     ]
    }
   ],
   "source": [
    "schaatstijden.info()"
   ]
  },
  {
   "cell_type": "code",
   "execution_count": 4,
   "metadata": {},
   "outputs": [
    {
     "data": {
      "text/plain": "            Tijd\ncount  76.000000\nmean   35.815263\nstd     6.280937\nmin    34.490000\n25%    34.917500\n50%    35.055000\n75%    35.272500\nmax    89.800000",
      "text/html": "<div>\n<style scoped>\n    .dataframe tbody tr th:only-of-type {\n        vertical-align: middle;\n    }\n\n    .dataframe tbody tr th {\n        vertical-align: top;\n    }\n\n    .dataframe thead th {\n        text-align: right;\n    }\n</style>\n<table border=\"1\" class=\"dataframe\">\n  <thead>\n    <tr style=\"text-align: right;\">\n      <th></th>\n      <th>Tijd</th>\n    </tr>\n  </thead>\n  <tbody>\n    <tr>\n      <th>count</th>\n      <td>76.000000</td>\n    </tr>\n    <tr>\n      <th>mean</th>\n      <td>35.815263</td>\n    </tr>\n    <tr>\n      <th>std</th>\n      <td>6.280937</td>\n    </tr>\n    <tr>\n      <th>min</th>\n      <td>34.490000</td>\n    </tr>\n    <tr>\n      <th>25%</th>\n      <td>34.917500</td>\n    </tr>\n    <tr>\n      <th>50%</th>\n      <td>35.055000</td>\n    </tr>\n    <tr>\n      <th>75%</th>\n      <td>35.272500</td>\n    </tr>\n    <tr>\n      <th>max</th>\n      <td>89.800000</td>\n    </tr>\n  </tbody>\n</table>\n</div>"
     },
     "execution_count": 4,
     "metadata": {},
     "output_type": "execute_result"
    }
   ],
   "source": [
    "schaatstijden.describe()"
   ]
  },
  {
   "cell_type": "markdown",
   "metadata": {},
   "source": [
    "## Onderdeel 1"
   ]
  },
  {
   "cell_type": "markdown",
   "metadata": {},
   "source": [
    "Kijk eens goed naar de tabellen hierboven en geef antwoord op de volgende vragen.\n",
    "* Hoeveel 500m tijden zitten er in de dataset?\n",
    "* Wat is de snelste tijd?"
   ]
  },
  {
   "cell_type": "markdown",
   "metadata": {},
   "source": [
    "#### Antwoord:\n",
    "76\n",
    "34.49"
   ]
  },
  {
   "cell_type": "markdown",
   "metadata": {},
   "source": [
    "## Onderdeel 2"
   ]
  },
  {
   "cell_type": "markdown",
   "metadata": {},
   "source": [
    "Maak een histogram van de kolom `Tijd`. Vul de code aan, voldoe aan de volgende extra eisen en pas verder geen dingen aan.\n",
    "* Kies de juiste kolom.\n",
    "* Maak de histogram oranje.\n",
    "* Gebruik een geschikte titel.\n",
    "* Gebruik een geschikt x-as label.\n",
    "* Gebruik een geschikt y-as label."
   ]
  },
  {
   "cell_type": "code",
   "execution_count": 5,
   "metadata": {},
   "outputs": [],
   "source": [
    "import matplotlib.pyplot as plt"
   ]
  },
  {
   "cell_type": "code",
   "execution_count": 6,
   "metadata": {
    "scrolled": true
   },
   "outputs": [
    {
     "data": {
      "text/plain": "<Figure size 432x288 with 1 Axes>",
      "image/png": "[encoded data removed]"
     },
     "metadata": {
      "needs_background": "light"
     },
     "output_type": "display_data"
    }
   ],
   "source": [
    "plt.hist(schaatstijden['Tijd'], color='orange')\n",
    "plt.title('Aantal schaatstijden')\n",
    "plt.xlabel(\"Schaatstijd in seconden\")\n",
    "plt.ylabel(\"Aantal pogingen\")\n",
    "plt.show()"
   ]
  },
  {
   "cell_type": "markdown",
   "metadata": {},
   "source": [
    "Wellicht heb je het al gezien. Een van de broers is gevallen tijdens een rit. Dit resulteerde in tijd een stuk langzamer dan normaal. Filter deze tijd uit de dataset en maak de histogram nogmaals."
   ]
  },
  {
   "cell_type": "code",
   "execution_count": 7,
   "metadata": {},
   "outputs": [],
   "source": [
    "interquartile = schaatstijden.describe().loc['75%'] - schaatstijden.describe().loc['25%']\n",
    "iqr = interquartile * 1.5\n",
    "upperoutlier = schaatstijden.describe().loc['75%'] + iqr\n",
    "schaatstijden = schaatstijden[schaatstijden['Tijd'] < upperoutlier[0]]"
   ]
  },
  {
   "cell_type": "code",
   "execution_count": 8,
   "metadata": {},
   "outputs": [
    {
     "data": {
      "text/plain": "<Figure size 432x288 with 1 Axes>",
      "image/png": "[encoded data removed]"
     },
     "metadata": {
      "needs_background": "light"
     },
     "output_type": "display_data"
    }
   ],
   "source": [
    "plt.hist(schaatstijden['Tijd'], color='orange')\n",
    "plt.title('Aantal schaatstijden')\n",
    "plt.xlabel(\"Schaatstijd in seconden\")\n",
    "plt.ylabel(\"Aantal pogingen\")\n",
    "plt.show()"
   ]
  },
  {
   "cell_type": "markdown",
   "metadata": {},
   "source": [
    "## Onderdeel 3"
   ]
  },
  {
   "cell_type": "markdown",
   "metadata": {},
   "source": [
    "Voor de volgende analyse gaan we een boxplot maken. (gebruik de dataset zonder val) We willen een uitspraak doen welke broer sneller is op de 500m in Thialf. Maak een boxplot van de tijden van Ronald en een boxplot van de tijden van Michel. Voldoe aan de volgende eisen.\n",
    "* Voeg een lijn blauwe toe met het huidige baan record in thialf, 34,07\n",
    "* Gebruik een geschikte titel.\n",
    "* Gebruik een geschikt x-as label.\n",
    "* Gebruik een geschikt y-as label."
   ]
  },
  {
   "cell_type": "code",
   "execution_count": 9,
   "metadata": {},
   "outputs": [],
   "source": [
    "schaatstijdenBoxplotData = {'Ronald': schaatstijden[schaatstijden['Rijder'] == 'Ronald']['Tijd'],\n",
    "                            'Michel': schaatstijden[schaatstijden['Rijder'] == 'Michel']['Tijd']}"
   ]
  },
  {
   "cell_type": "code",
   "execution_count": 10,
   "metadata": {},
   "outputs": [
    {
     "data": {
      "text/plain": "          Ronald     Michel\ncount  35.000000  40.000000\nmean   34.935143  35.235750\nstd     0.191194   0.259357\nmin    34.490000  34.620000\n25%    34.820000  35.035000\n50%    34.920000  35.230000\n75%    35.035000  35.472500\nmax    35.380000  35.720000",
      "text/html": "<div>\n<style scoped>\n    .dataframe tbody tr th:only-of-type {\n        vertical-align: middle;\n    }\n\n    .dataframe tbody tr th {\n        vertical-align: top;\n    }\n\n    .dataframe thead th {\n        text-align: right;\n    }\n</style>\n<table border=\"1\" class=\"dataframe\">\n  <thead>\n    <tr style=\"text-align: right;\">\n      <th></th>\n      <th>Ronald</th>\n      <th>Michel</th>\n    </tr>\n  </thead>\n  <tbody>\n    <tr>\n      <th>count</th>\n      <td>35.000000</td>\n      <td>40.000000</td>\n    </tr>\n    <tr>\n      <th>mean</th>\n      <td>34.935143</td>\n      <td>35.235750</td>\n    </tr>\n    <tr>\n      <th>std</th>\n      <td>0.191194</td>\n      <td>0.259357</td>\n    </tr>\n    <tr>\n      <th>min</th>\n      <td>34.490000</td>\n      <td>34.620000</td>\n    </tr>\n    <tr>\n      <th>25%</th>\n      <td>34.820000</td>\n      <td>35.035000</td>\n    </tr>\n    <tr>\n      <th>50%</th>\n      <td>34.920000</td>\n      <td>35.230000</td>\n    </tr>\n    <tr>\n      <th>75%</th>\n      <td>35.035000</td>\n      <td>35.472500</td>\n    </tr>\n    <tr>\n      <th>max</th>\n      <td>35.380000</td>\n      <td>35.720000</td>\n    </tr>\n  </tbody>\n</table>\n</div>"
     },
     "execution_count": 10,
     "metadata": {},
     "output_type": "execute_result"
    }
   ],
   "source": [
    "schaatstijdenDF = pd.DataFrame(schaatstijdenBoxplotData)\n",
    "schaatstijdenDF.describe()"
   ]
  },
  {
   "cell_type": "code",
   "execution_count": 11,
   "metadata": {},
   "outputs": [
    {
     "data": {
      "text/plain": "<Figure size 432x288 with 1 Axes>",
      "image/png": "[encoded data removed]"
     },
     "metadata": {
      "needs_background": "light"
     },
     "output_type": "display_data"
    }
   ],
   "source": [
    "plt.boxplot([schaatstijdenBoxplotData['Ronald'], schaatstijdenBoxplotData['Michel']], labels = ['Ronald', 'Michel'])\n",
    "plt.axhline(y=34.07, color='b')\n",
    "plt.title(\"Schaatstijden in Thialf\")\n",
    "plt.xlabel(\"Schaatsers\")\n",
    "plt.ylabel(\"Tijd in seconden\")\n",
    "plt.show()"
   ]
  },
  {
   "cell_type": "markdown",
   "metadata": {},
   "source": [
    "## Onderdeel 4"
   ]
  },
  {
   "cell_type": "markdown",
   "metadata": {},
   "source": [
    "Deze vraag gaat over visualisatie gemaakt bij onderdeel 3. Doe een uitspraak over de welke broer het snelst is. Gebruik een maat voor locatie en voor spreiding in je antwoord."
   ]
  },
  {
   "cell_type": "markdown",
   "metadata": {},
   "source": [
    "#### Antwoord\n",
    "\n",
    "Wat we kunnen zeggen over de locatie is dat de boxplot van Ronald een stuk lager ligt dan Michel, wat betekend dat de minimum en maximum waardes lager liggen. Daarnaast is de spreiding van de boxplot ook wat smaller, wat betekend dat Ronald op meerdere momenten de zelfde tijd aanhield. Hiermee kunnen we concluderen dat Ronald over het algemeen wat sneller was dan zijn broer Michel. "
   ]
  },
  {
   "cell_type": "markdown",
   "metadata": {},
   "source": [
    "## Onderdeel 5"
   ]
  },
  {
   "cell_type": "markdown",
   "metadata": {},
   "source": [
    "De broers hebben tijdens een aantal wedstrijden tegen elkaar gereden (niet uitsluitend in dezelfde rit). Ook deze data staat op BrightSpace, we laden de data in en berekenen het verschil van het onderlinge resultaat."
   ]
  },
  {
   "cell_type": "code",
   "execution_count": 12,
   "metadata": {},
   "outputs": [],
   "source": [
    "schaatstijdenVerschil = pd.read_csv('Schaatstijden500m verschil.csv')\n",
    "schaatstijdenVerschil['Datum'] = pd.to_datetime(schaatstijdenVerschil['Datum'])"
   ]
  },
  {
   "cell_type": "code",
   "execution_count": 13,
   "metadata": {},
   "outputs": [],
   "source": [
    "schaatstijdenVerschil['Verschil'] = schaatstijdenVerschil['Ronald'] - schaatstijdenVerschil['Michel']"
   ]
  },
  {
   "cell_type": "code",
   "execution_count": 14,
   "metadata": {},
   "outputs": [
    {
     "data": {
      "text/plain": "       Datum                  Ijsbaan  Michel  Ronald  Verschil\n0 2017-12-27  IJsstadion Thialf (NED)   34.98   34.49     -0.49\n1 2018-12-28  IJsstadion Thialf (NED)   35.04   34.60     -0.44\n2 2018-10-03  IJsstadion Thialf (NED)   35.72   34.67     -1.05\n3 2017-10-28  IJsstadion Thialf (NED)   35.58   34.69     -0.89\n4 2017-12-22  IJsstadion Thialf (NED)   34.90   34.74     -0.16",
      "text/html": "<div>\n<style scoped>\n    .dataframe tbody tr th:only-of-type {\n        vertical-align: middle;\n    }\n\n    .dataframe tbody tr th {\n        vertical-align: top;\n    }\n\n    .dataframe thead th {\n        text-align: right;\n    }\n</style>\n<table border=\"1\" class=\"dataframe\">\n  <thead>\n    <tr style=\"text-align: right;\">\n      <th></th>\n      <th>Datum</th>\n      <th>Ijsbaan</th>\n      <th>Michel</th>\n      <th>Ronald</th>\n      <th>Verschil</th>\n    </tr>\n  </thead>\n  <tbody>\n    <tr>\n      <th>0</th>\n      <td>2017-12-27</td>\n      <td>IJsstadion Thialf (NED)</td>\n      <td>34.98</td>\n      <td>34.49</td>\n      <td>-0.49</td>\n    </tr>\n    <tr>\n      <th>1</th>\n      <td>2018-12-28</td>\n      <td>IJsstadion Thialf (NED)</td>\n      <td>35.04</td>\n      <td>34.60</td>\n      <td>-0.44</td>\n    </tr>\n    <tr>\n      <th>2</th>\n      <td>2018-10-03</td>\n      <td>IJsstadion Thialf (NED)</td>\n      <td>35.72</td>\n      <td>34.67</td>\n      <td>-1.05</td>\n    </tr>\n    <tr>\n      <th>3</th>\n      <td>2017-10-28</td>\n      <td>IJsstadion Thialf (NED)</td>\n      <td>35.58</td>\n      <td>34.69</td>\n      <td>-0.89</td>\n    </tr>\n    <tr>\n      <th>4</th>\n      <td>2017-12-22</td>\n      <td>IJsstadion Thialf (NED)</td>\n      <td>34.90</td>\n      <td>34.74</td>\n      <td>-0.16</td>\n    </tr>\n  </tbody>\n</table>\n</div>"
     },
     "execution_count": 14,
     "metadata": {},
     "output_type": "execute_result"
    }
   ],
   "source": [
    "schaatstijdenVerschil.head()"
   ]
  },
  {
   "cell_type": "markdown",
   "metadata": {},
   "source": [
    "Maakt een histogram van het verschil tussen de broers."
   ]
  },
  {
   "cell_type": "code",
   "execution_count": 15,
   "metadata": {},
   "outputs": [
    {
     "data": {
      "text/plain": "<Figure size 432x288 with 1 Axes>",
      "image/png": "[encoded data removed]"
     },
     "metadata": {
      "needs_background": "light"
     },
     "output_type": "display_data"
    }
   ],
   "source": [
    "plt.hist(schaatstijdenVerschil['Verschil'])\n",
    "plt.title(\"Ijsbaan tijdsverschillen tussen Michel en Ronald. Ten opzichte van Michel\")\n",
    "plt.xlabel(\"Tijdsverschil in seconden\")\n",
    "plt.ylabel(\"Aantal keren geschaatst\")\n",
    "plt.show()"
   ]
  },
  {
   "cell_type": "markdown",
   "metadata": {},
   "source": [
    "## Onderdeel 6"
   ]
  },
  {
   "cell_type": "markdown",
   "metadata": {},
   "source": [
    "Deze vraag gaat over visualisatie gemaakt bij onderdeel 5. Doe een uitspraak over de welke broer het snelst is. Gebruik een maat voor locatie en voor spreiding in je antwoord."
   ]
  },
  {
   "cell_type": "markdown",
   "metadata": {},
   "source": [
    "#### Antwoord\n",
    "\n",
    "Zoals je kan zien in de visualisatie, is het grafiek ten opzichte van Michel. Dit betekent dat bij positieve getallen op de X-as, dat michel sneller is ten opzichte van Ronald, en bij negatieve getallen op de X-as, dat michel langzamer is ten opzichte van Ronald. Uit de grafiek zien we dat Michel in 20 poging langzamer was dan Ronald en in 5 pogingen sneller dan Ronald. Hiermee kunnen we concluderen dat Ronald sneller is. Ook is het verschil duidelijk te zien, waarbij Ronald tot een hele seconde verschil sneller was dan Michel en maar tot 0.2 seconden was dan Michel."
   ]
  },
  {
   "cell_type": "markdown",
   "metadata": {},
   "source": [
    "## Onderdeel 7"
   ]
  },
  {
   "cell_type": "markdown",
   "metadata": {},
   "source": [
    "Deze meer geavanceerde visualisatie gaat over het verloop van de tijden over de jaren. Maak een dataframe van schaatstijdenVerschil met de gemiddelde 500m tijd per broer per jaar (mocht je over de skills beschikken, dan mag het ook per schaatsseizoen september t/m maart)."
   ]
  },
  {
   "cell_type": "code",
   "execution_count": 16,
   "metadata": {},
   "outputs": [],
   "source": [
    "#code om gemiddelde per jaar te berekenen\n",
    "schaatstijdenVerschil['Datum'] = schaatstijdenVerschil['Datum'].dt.year\n",
    "gemPerJaarPerBroer = schaatstijdenVerschil.groupby(['Datum']).mean()"
   ]
  },
  {
   "cell_type": "code",
   "execution_count": 17,
   "metadata": {},
   "outputs": [
    {
     "name": "stdout",
     "output_type": "stream",
     "text": [
      "          Michel     Ronald  Verschil\n",
      "Datum                                \n",
      "2015   35.500000  35.120000 -0.380000\n",
      "2016   35.211667  34.916667 -0.295000\n",
      "2017   35.271667  34.826667 -0.445000\n",
      "2018   35.224000  34.916000 -0.308000\n",
      "2019   35.088333  34.980000 -0.108333\n"
     ]
    }
   ],
   "source": [
    "print(gemPerJaarPerBroer)"
   ]
  },
  {
   "cell_type": "markdown",
   "metadata": {},
   "source": [
    "Maak een lijndiagram met op de x-as het jaar en op de y-as de gemiddelde tijd per jaar. Geef een lijn per broer weer. Geef de visualisatie geschikte titels en een legenda."
   ]
  },
  {
   "cell_type": "code",
   "execution_count": 18,
   "metadata": {
    "pycharm": {
     "name": "#%%\n"
    }
   },
   "outputs": [
    {
     "data": {
      "text/plain": "<Figure size 432x288 with 1 Axes>",
      "image/png": "[encoded data removed]"
     },
     "metadata": {
      "needs_background": "light"
     },
     "output_type": "display_data"
    }
   ],
   "source": [
    "plt.plot(gemPerJaarPerBroer[\"Michel\"], label=\"Michel\")\n",
    "plt.plot(gemPerJaarPerBroer[\"Ronald\"], label=\"Ronald\")\n",
    "xtickpos = xticklabel = gemPerJaarPerBroer.index\n",
    "plt.xticks(xtickpos, xticklabel)\n",
    "plt.title(\"Per broer de gemiddelde schaats tijd per jaar\")\n",
    "plt.xlabel(\"Jaar\")\n",
    "plt.ylabel(\"Gemiddelde tijd per jaar\")\n",
    "plt.legend()\n",
    "plt.show()"
   ]
  },
  {
   "cell_type": "markdown",
   "source": [
    "## Onderdeel 8 (bonus opdracht)"
   ],
   "metadata": {
    "collapsed": false,
    "pycharm": {
     "name": "#%% md\n"
    }
   }
  },
  {
   "cell_type": "markdown",
   "source": [
    "Met deze vraag gaan we ook kijken wat we nog meer kunnen zeggen over de huidige data. \n",
    "* Hoe vaak van alle keren was Ronald/Michel sneller?\n",
    "* Hoeveel procent van de keren was dit?\n",
    "* Maak een top 20 van snelste tijden van de langzamere broer en maak een top 20 van langzaamste tijden van de snellere broer.\n",
    "* Hoe vaak had de langzame broer kunnen winnen van de snelle broer als hij zijn snelste tijden had gereden en de snelle broer zijn langzaamste tijden? (gebruik de gesoorteerde tabellen van de tijden om dit te tellen)\n"
   ],
   "metadata": {
    "collapsed": false
   }
  },
  {
   "cell_type": "code",
   "execution_count": null,
   "outputs": [],
   "source": [],
   "metadata": {
    "collapsed": false,
    "pycharm": {
     "name": "#%%\n"
    }
   }
  },
  {
   "cell_type": "markdown",
   "source": [
    "#### Antwoord"
   ],
   "metadata": {
    "collapsed": false
   }
  },
  {
   "cell_type": "code",
   "execution_count": null,
   "outputs": [],
   "source": [],
   "metadata": {
    "collapsed": false,
    "pycharm": {
     "name": "#%%\n"
    }
   }
  },
  {
   "cell_type": "code",
   "execution_count": null,
   "outputs": [],
   "source": [],
   "metadata": {
    "collapsed": false,
    "pycharm": {
     "name": "#%%\n"
    }
   }
  }
 ],
 "metadata": {
  "kernelspec": {
   "name": "pycharm-6d86f21f",
   "language": "python",
   "display_name": "PyCharm (DataScienceGithub)"
  },
  "language_info": {
   "codemirror_mode": {
    "name": "ipython",
    "version": 3
   },
   "file_extension": ".py",
   "mimetype": "text/x-python",
   "name": "python",
   "nbconvert_exporter": "python",
   "pygments_lexer": "ipython3",
   "version": "3.8.8"
  }
 },
 "nbformat": 4,
 "nbformat_minor": 4
}