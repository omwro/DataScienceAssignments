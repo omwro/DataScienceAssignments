{
 "cells": [
  {
   "cell_type": "markdown",
   "source": [
    "# VA 2021-2022 sem-1 Inleveropdracht 3"
   ],
   "metadata": {}
  },
  {
   "cell_type": "markdown",
   "source": [
    "Vul je naam in:"
   ],
   "metadata": {}
  },
  {
   "cell_type": "markdown",
   "source": [
    "## Deadline"
   ],
   "metadata": {}
  },
  {
   "cell_type": "markdown",
   "source": [
    "De deadline voor deze opdracht is: 8 oktober 18:00"
   ],
   "metadata": {}
  },
  {
   "cell_type": "markdown",
   "source": [
    "# Deel 1 - Introductie Folium"
   ],
   "metadata": {}
  },
  {
   "cell_type": "markdown",
   "source": [
    "## Onderdeel 1"
   ],
   "metadata": {}
  },
  {
   "cell_type": "markdown",
   "source": [
    "We gaan een kaart maken met behulp van `folium`. Folium is een library die gebruikt wordt voor het visualiseren van geospatiale gegevens. Het is eenvoudig te gebruiken en toch een krachtige library. Informatie over folium kan je bijv. vinden op https://python-visualization.github.io/folium/modules.html. Hieronder is al een voorbeeld gemaakt. De locatie Utrecht centrum is weergegeven als een marker. De onderstaande code produceert een kaart (inclusief een marker), maar is nog niet compleet. Voldoe aan de volgende eisen:\r\n",
    "\r\n",
    "- Gebruik een functie om Nederland direct volledig in beeld te krijgen.\r\n",
    "- Kies zelf nog twee locaties in Nederland en geef de locaties als markers weer met de bijbehorende popup.\r\n",
    "- Pas de code aan en maak de popup tekst dikgedrukt."
   ],
   "metadata": {}
  },
  {
   "cell_type": "code",
   "execution_count": 3,
   "source": [
    "import folium\r\n",
    "import geopandas as gpd"
   ],
   "outputs": [],
   "metadata": {}
  },
  {
   "cell_type": "code",
   "execution_count": 4,
   "source": [
    "m = folium.Map(location=[52.0893191, 5.1101691], zoom_start=8)\r\n",
    "\r\n",
    "folium.Marker(location=[52.0893191, 5.1101691],popup='<b>Utrecht centrum</b>',tooltip='Klik hier om de popup te zien').add_to(m)\r\n",
    "folium.Marker(location=[52.2291696, 5.1668974],popup='<b>Hilversum</b>',tooltip='Klik hier om de popup te zien').add_to(m)\r\n",
    "folium.Marker(location=[52.373882, 4.891711],popup='<b>Amsterdam</b>',tooltip='Klik hier om de popup te zien').add_to(m)\r\n",
    "\r\n",
    "m"
   ],
   "outputs": [
    {
     "data": {
      "text/plain": "<folium.folium.Map at 0x21f88db9790>",
      "text/html": "<div style=\"width:100%;\"><div style=\"position:relative;width:100%;height:0;padding-bottom:60%;\"><span style=\"color:#565656\">Make this Notebook Trusted to load map: File -> Trust Notebook</span><iframe src=\"about:blank\" style=\"position:absolute;width:100%;height:100%;left:0;top:0;border:none !important;\" data-html=%3C%21DOCTYPE%20html%3E%0A%3Chead%3E%20%20%20%20%0A%20%20%20%20%3Cmeta%20http-equiv%3D%22content-type%22%20content%3D%22text/html%3B%20charset%3DUTF-8%22%20/%3E%0A%20%20%20%20%0A%20%20%20%20%20%20%20%20%3Cscript%3E%0A%20%20%20%20%20%20%20%20%20%20%20%20L_NO_TOUCH%20%3D%20false%3B%0A%20%20%20%20%20%20%20%20%20%20%20%20L_DISABLE_3D%20%3D%20false%3B%0A%20%20%20%20%20%20%20%20%3C/script%3E%0A%20%20%20%20%0A%20%20%20%20%3Cstyle%3Ehtml%2C%20body%20%7Bwidth%3A%20100%25%3Bheight%3A%20100%25%3Bmargin%3A%200%3Bpadding%3A%200%3B%7D%3C/style%3E%0A%20%20%20%20%3Cstyle%3E%23map%20%7Bposition%3Aabsolute%3Btop%3A0%3Bbottom%3A0%3Bright%3A0%3Bleft%3A0%3B%7D%3C/style%3E%0A%20%20%20%20%3Cscript%20src%3D%22https%3A//cdn.jsdelivr.net/npm/leaflet%401.6.0/dist/leaflet.js%22%3E%3C/script%3E%0A%20%20%20%20%3Cscript%20src%3D%22https%3A//code.jquery.com/jquery-1.12.4.min.js%22%3E%3C/script%3E%0A%20%20%20%20%3Cscript%20src%3D%22https%3A//maxcdn.bootstrapcdn.com/bootstrap/3.2.0/js/bootstrap.min.js%22%3E%3C/script%3E%0A%20%20%20%20%3Cscript%20src%3D%22https%3A//cdnjs.cloudflare.com/ajax/libs/Leaflet.awesome-markers/2.0.2/leaflet.awesome-markers.js%22%3E%3C/script%3E%0A%20%20%20%20%3Clink%20rel%3D%22stylesheet%22%20href%3D%22https%3A//cdn.jsdelivr.net/npm/leaflet%401.6.0/dist/leaflet.css%22/%3E%0A%20%20%20%20%3Clink%20rel%3D%22stylesheet%22%20href%3D%22https%3A//maxcdn.bootstrapcdn.com/bootstrap/3.2.0/css/bootstrap.min.css%22/%3E%0A%20%20%20%20%3Clink%20rel%3D%22stylesheet%22%20href%3D%22https%3A//maxcdn.bootstrapcdn.com/bootstrap/3.2.0/css/bootstrap-theme.min.css%22/%3E%0A%20%20%20%20%3Clink%20rel%3D%22stylesheet%22%20href%3D%22https%3A//maxcdn.bootstrapcdn.com/font-awesome/4.6.3/css/font-awesome.min.css%22/%3E%0A%20%20%20%20%3Clink%20rel%3D%22stylesheet%22%20href%3D%22https%3A//cdnjs.cloudflare.com/ajax/libs/Leaflet.awesome-markers/2.0.2/leaflet.awesome-markers.css%22/%3E%0A%20%20%20%20%3Clink%20rel%3D%22stylesheet%22%20href%3D%22https%3A//cdn.jsdelivr.net/gh/python-visualization/folium/folium/templates/leaflet.awesome.rotate.min.css%22/%3E%0A%20%20%20%20%0A%20%20%20%20%20%20%20%20%20%20%20%20%3Cmeta%20name%3D%22viewport%22%20content%3D%22width%3Ddevice-width%2C%0A%20%20%20%20%20%20%20%20%20%20%20%20%20%20%20%20initial-scale%3D1.0%2C%20maximum-scale%3D1.0%2C%20user-scalable%3Dno%22%20/%3E%0A%20%20%20%20%20%20%20%20%20%20%20%20%3Cstyle%3E%0A%20%20%20%20%20%20%20%20%20%20%20%20%20%20%20%20%23map_285d3ed477394dc6b9d2c66939b53aec%20%7B%0A%20%20%20%20%20%20%20%20%20%20%20%20%20%20%20%20%20%20%20%20position%3A%20relative%3B%0A%20%20%20%20%20%20%20%20%20%20%20%20%20%20%20%20%20%20%20%20width%3A%20100.0%25%3B%0A%20%20%20%20%20%20%20%20%20%20%20%20%20%20%20%20%20%20%20%20height%3A%20100.0%25%3B%0A%20%20%20%20%20%20%20%20%20%20%20%20%20%20%20%20%20%20%20%20left%3A%200.0%25%3B%0A%20%20%20%20%20%20%20%20%20%20%20%20%20%20%20%20%20%20%20%20top%3A%200.0%25%3B%0A%20%20%20%20%20%20%20%20%20%20%20%20%20%20%20%20%7D%0A%20%20%20%20%20%20%20%20%20%20%20%20%3C/style%3E%0A%20%20%20%20%20%20%20%20%0A%3C/head%3E%0A%3Cbody%3E%20%20%20%20%0A%20%20%20%20%0A%20%20%20%20%20%20%20%20%20%20%20%20%3Cdiv%20class%3D%22folium-map%22%20id%3D%22map_285d3ed477394dc6b9d2c66939b53aec%22%20%3E%3C/div%3E%0A%20%20%20%20%20%20%20%20%0A%3C/body%3E%0A%3Cscript%3E%20%20%20%20%0A%20%20%20%20%0A%20%20%20%20%20%20%20%20%20%20%20%20var%20map_285d3ed477394dc6b9d2c66939b53aec%20%3D%20L.map%28%0A%20%20%20%20%20%20%20%20%20%20%20%20%20%20%20%20%22map_285d3ed477394dc6b9d2c66939b53aec%22%2C%0A%20%20%20%20%20%20%20%20%20%20%20%20%20%20%20%20%7B%0A%20%20%20%20%20%20%20%20%20%20%20%20%20%20%20%20%20%20%20%20center%3A%20%5B52.0893191%2C%205.1101691%5D%2C%0A%20%20%20%20%20%20%20%20%20%20%20%20%20%20%20%20%20%20%20%20crs%3A%20L.CRS.EPSG3857%2C%0A%20%20%20%20%20%20%20%20%20%20%20%20%20%20%20%20%20%20%20%20zoom%3A%208%2C%0A%20%20%20%20%20%20%20%20%20%20%20%20%20%20%20%20%20%20%20%20zoomControl%3A%20true%2C%0A%20%20%20%20%20%20%20%20%20%20%20%20%20%20%20%20%20%20%20%20preferCanvas%3A%20false%2C%0A%20%20%20%20%20%20%20%20%20%20%20%20%20%20%20%20%7D%0A%20%20%20%20%20%20%20%20%20%20%20%20%29%3B%0A%0A%20%20%20%20%20%20%20%20%20%20%20%20%0A%0A%20%20%20%20%20%20%20%20%0A%20%20%20%20%0A%20%20%20%20%20%20%20%20%20%20%20%20var%20tile_layer_5843f923ad7348258ea064f640022742%20%3D%20L.tileLayer%28%0A%20%20%20%20%20%20%20%20%20%20%20%20%20%20%20%20%22https%3A//%7Bs%7D.tile.openstreetmap.org/%7Bz%7D/%7Bx%7D/%7By%7D.png%22%2C%0A%20%20%20%20%20%20%20%20%20%20%20%20%20%20%20%20%7B%22attribution%22%3A%20%22Data%20by%20%5Cu0026copy%3B%20%5Cu003ca%20href%3D%5C%22http%3A//openstreetmap.org%5C%22%5Cu003eOpenStreetMap%5Cu003c/a%5Cu003e%2C%20under%20%5Cu003ca%20href%3D%5C%22http%3A//www.openstreetmap.org/copyright%5C%22%5Cu003eODbL%5Cu003c/a%5Cu003e.%22%2C%20%22detectRetina%22%3A%20false%2C%20%22maxNativeZoom%22%3A%2018%2C%20%22maxZoom%22%3A%2018%2C%20%22minZoom%22%3A%200%2C%20%22noWrap%22%3A%20false%2C%20%22opacity%22%3A%201%2C%20%22subdomains%22%3A%20%22abc%22%2C%20%22tms%22%3A%20false%7D%0A%20%20%20%20%20%20%20%20%20%20%20%20%29.addTo%28map_285d3ed477394dc6b9d2c66939b53aec%29%3B%0A%20%20%20%20%20%20%20%20%0A%20%20%20%20%0A%20%20%20%20%20%20%20%20%20%20%20%20var%20marker_c022c98ed8014ef49e7d0408071e054b%20%3D%20L.marker%28%0A%20%20%20%20%20%20%20%20%20%20%20%20%20%20%20%20%5B52.0893191%2C%205.1101691%5D%2C%0A%20%20%20%20%20%20%20%20%20%20%20%20%20%20%20%20%7B%7D%0A%20%20%20%20%20%20%20%20%20%20%20%20%29.addTo%28map_285d3ed477394dc6b9d2c66939b53aec%29%3B%0A%20%20%20%20%20%20%20%20%0A%20%20%20%20%0A%20%20%20%20%20%20%20%20var%20popup_a4a67afcf85a40b99f687a79053c6822%20%3D%20L.popup%28%7B%22maxWidth%22%3A%20%22100%25%22%7D%29%3B%0A%0A%20%20%20%20%20%20%20%20%0A%20%20%20%20%20%20%20%20%20%20%20%20var%20html_616c4a44b3a849308eb3e94eb335de91%20%3D%20%24%28%60%3Cdiv%20id%3D%22html_616c4a44b3a849308eb3e94eb335de91%22%20style%3D%22width%3A%20100.0%25%3B%20height%3A%20100.0%25%3B%22%3E%3Cb%3EUtrecht%20centrum%3C/b%3E%3C/div%3E%60%29%5B0%5D%3B%0A%20%20%20%20%20%20%20%20%20%20%20%20popup_a4a67afcf85a40b99f687a79053c6822.setContent%28html_616c4a44b3a849308eb3e94eb335de91%29%3B%0A%20%20%20%20%20%20%20%20%0A%0A%20%20%20%20%20%20%20%20marker_c022c98ed8014ef49e7d0408071e054b.bindPopup%28popup_a4a67afcf85a40b99f687a79053c6822%29%0A%20%20%20%20%20%20%20%20%3B%0A%0A%20%20%20%20%20%20%20%20%0A%20%20%20%20%0A%20%20%20%20%0A%20%20%20%20%20%20%20%20%20%20%20%20marker_c022c98ed8014ef49e7d0408071e054b.bindTooltip%28%0A%20%20%20%20%20%20%20%20%20%20%20%20%20%20%20%20%60%3Cdiv%3E%0A%20%20%20%20%20%20%20%20%20%20%20%20%20%20%20%20%20%20%20%20%20Klik%20hier%20om%20de%20popup%20te%20zien%0A%20%20%20%20%20%20%20%20%20%20%20%20%20%20%20%20%20%3C/div%3E%60%2C%0A%20%20%20%20%20%20%20%20%20%20%20%20%20%20%20%20%7B%22sticky%22%3A%20true%7D%0A%20%20%20%20%20%20%20%20%20%20%20%20%29%3B%0A%20%20%20%20%20%20%20%20%0A%20%20%20%20%0A%20%20%20%20%20%20%20%20%20%20%20%20var%20marker_a104651107234205b6d42e7f06e82de2%20%3D%20L.marker%28%0A%20%20%20%20%20%20%20%20%20%20%20%20%20%20%20%20%5B52.2291696%2C%205.1668974%5D%2C%0A%20%20%20%20%20%20%20%20%20%20%20%20%20%20%20%20%7B%7D%0A%20%20%20%20%20%20%20%20%20%20%20%20%29.addTo%28map_285d3ed477394dc6b9d2c66939b53aec%29%3B%0A%20%20%20%20%20%20%20%20%0A%20%20%20%20%0A%20%20%20%20%20%20%20%20var%20popup_ed4adbd3e2924cf3bf5c4c629bcd69f8%20%3D%20L.popup%28%7B%22maxWidth%22%3A%20%22100%25%22%7D%29%3B%0A%0A%20%20%20%20%20%20%20%20%0A%20%20%20%20%20%20%20%20%20%20%20%20var%20html_c2d3eedc9c274632877b709bfa9ef4c0%20%3D%20%24%28%60%3Cdiv%20id%3D%22html_c2d3eedc9c274632877b709bfa9ef4c0%22%20style%3D%22width%3A%20100.0%25%3B%20height%3A%20100.0%25%3B%22%3E%3Cb%3EHilversum%3C/b%3E%3C/div%3E%60%29%5B0%5D%3B%0A%20%20%20%20%20%20%20%20%20%20%20%20popup_ed4adbd3e2924cf3bf5c4c629bcd69f8.setContent%28html_c2d3eedc9c274632877b709bfa9ef4c0%29%3B%0A%20%20%20%20%20%20%20%20%0A%0A%20%20%20%20%20%20%20%20marker_a104651107234205b6d42e7f06e82de2.bindPopup%28popup_ed4adbd3e2924cf3bf5c4c629bcd69f8%29%0A%20%20%20%20%20%20%20%20%3B%0A%0A%20%20%20%20%20%20%20%20%0A%20%20%20%20%0A%20%20%20%20%0A%20%20%20%20%20%20%20%20%20%20%20%20marker_a104651107234205b6d42e7f06e82de2.bindTooltip%28%0A%20%20%20%20%20%20%20%20%20%20%20%20%20%20%20%20%60%3Cdiv%3E%0A%20%20%20%20%20%20%20%20%20%20%20%20%20%20%20%20%20%20%20%20%20Klik%20hier%20om%20de%20popup%20te%20zien%0A%20%20%20%20%20%20%20%20%20%20%20%20%20%20%20%20%20%3C/div%3E%60%2C%0A%20%20%20%20%20%20%20%20%20%20%20%20%20%20%20%20%7B%22sticky%22%3A%20true%7D%0A%20%20%20%20%20%20%20%20%20%20%20%20%29%3B%0A%20%20%20%20%20%20%20%20%0A%20%20%20%20%0A%20%20%20%20%20%20%20%20%20%20%20%20var%20marker_0286c158bcfe44a7b47619f02cf9d8fd%20%3D%20L.marker%28%0A%20%20%20%20%20%20%20%20%20%20%20%20%20%20%20%20%5B52.373882%2C%204.891711%5D%2C%0A%20%20%20%20%20%20%20%20%20%20%20%20%20%20%20%20%7B%7D%0A%20%20%20%20%20%20%20%20%20%20%20%20%29.addTo%28map_285d3ed477394dc6b9d2c66939b53aec%29%3B%0A%20%20%20%20%20%20%20%20%0A%20%20%20%20%0A%20%20%20%20%20%20%20%20var%20popup_07fc3d16e3ca4d74b5779a522090bbd8%20%3D%20L.popup%28%7B%22maxWidth%22%3A%20%22100%25%22%7D%29%3B%0A%0A%20%20%20%20%20%20%20%20%0A%20%20%20%20%20%20%20%20%20%20%20%20var%20html_caf5d4d45ec34341ad962881bc5ef8cd%20%3D%20%24%28%60%3Cdiv%20id%3D%22html_caf5d4d45ec34341ad962881bc5ef8cd%22%20style%3D%22width%3A%20100.0%25%3B%20height%3A%20100.0%25%3B%22%3E%3Cb%3EAmsterdam%3C/b%3E%3C/div%3E%60%29%5B0%5D%3B%0A%20%20%20%20%20%20%20%20%20%20%20%20popup_07fc3d16e3ca4d74b5779a522090bbd8.setContent%28html_caf5d4d45ec34341ad962881bc5ef8cd%29%3B%0A%20%20%20%20%20%20%20%20%0A%0A%20%20%20%20%20%20%20%20marker_0286c158bcfe44a7b47619f02cf9d8fd.bindPopup%28popup_07fc3d16e3ca4d74b5779a522090bbd8%29%0A%20%20%20%20%20%20%20%20%3B%0A%0A%20%20%20%20%20%20%20%20%0A%20%20%20%20%0A%20%20%20%20%0A%20%20%20%20%20%20%20%20%20%20%20%20marker_0286c158bcfe44a7b47619f02cf9d8fd.bindTooltip%28%0A%20%20%20%20%20%20%20%20%20%20%20%20%20%20%20%20%60%3Cdiv%3E%0A%20%20%20%20%20%20%20%20%20%20%20%20%20%20%20%20%20%20%20%20%20Klik%20hier%20om%20de%20popup%20te%20zien%0A%20%20%20%20%20%20%20%20%20%20%20%20%20%20%20%20%20%3C/div%3E%60%2C%0A%20%20%20%20%20%20%20%20%20%20%20%20%20%20%20%20%7B%22sticky%22%3A%20true%7D%0A%20%20%20%20%20%20%20%20%20%20%20%20%29%3B%0A%20%20%20%20%20%20%20%20%0A%3C/script%3E onload=\"this.contentDocument.open();this.contentDocument.write(    decodeURIComponent(this.getAttribute('data-html')));this.contentDocument.close();\" allowfullscreen webkitallowfullscreen mozallowfullscreen></iframe></div></div>"
     },
     "execution_count": 4,
     "metadata": {},
     "output_type": "execute_result"
    }
   ],
   "metadata": {
    "scrolled": true
   }
  },
  {
   "cell_type": "markdown",
   "source": [
    "## Onderdeel 2"
   ],
   "metadata": {}
  },
  {
   "cell_type": "markdown",
   "source": [
    "We gaan nu meerdere kaartlagen toevoegen. De standaard kaartlaag is van openstreetmap.\r\n",
    "\r\n",
    "Kopieer de code uit onderdeel 1 en vul de code aan. Zoek op google naar een alternatieve kaartlaag naar jouw smaak zonder kleur en stel hem in als de standaard kaartlaag. Je zou deze site http://leaflet-extras.github.io/leaflet-providers/preview/ kunnen gebruiken (informatie over tiles kan je vinden op https://python-visualization.github.io/folium/modules.html). Voeg nog drie unieke kaartlagen en een layer control toe, zodat je in de kaart omgeving de kaartlaag kan selecteren."
   ],
   "metadata": {}
  },
  {
   "cell_type": "code",
   "execution_count": 5,
   "source": [
    "m = folium.Map(location=[52.0893191, 5.1101691], zoom_start=8)\r\n",
    "\r\n",
    "marker1 = folium.Marker(location=[52.0893191, 5.1101691],popup='<b>Utrecht centrum</b>',tooltip='Klik hier om de popup te zien').add_to(m)\r\n",
    "marker1 = folium.Marker(location=[52.2291696, 5.1668974],popup='<b>Hilversum</b>',tooltip='Klik hier om de popup te zien').add_to(m)\r\n",
    "marker1 = folium.Marker(location=[52.373882, 4.891711],popup='<b>Amsterdam</b>',tooltip='Klik hier om de popup te zien').add_to(m)\r\n",
    "\r\n",
    "folium.TileLayer('cartodbdark_matter').add_to(m)\r\n",
    "folium.TileLayer('stamentoner').add_to(m)\r\n",
    "folium.TileLayer('cartodbpositron').add_to(m)\r\n",
    "folium.LayerControl().add_to(m)\r\n",
    "\r\n",
    "m"
   ],
   "outputs": [
    {
     "data": {
      "text/plain": "<folium.folium.Map at 0x21f88de7610>",
      "text/html": "<div style=\"width:100%;\"><div style=\"position:relative;width:100%;height:0;padding-bottom:60%;\"><span style=\"color:#565656\">Make this Notebook Trusted to load map: File -> Trust Notebook</span><iframe src=\"about:blank\" style=\"position:absolute;width:100%;height:100%;left:0;top:0;border:none !important;\" data-html=%3C%21DOCTYPE%20html%3E%0A%3Chead%3E%20%20%20%20%0A%20%20%20%20%3Cmeta%20http-equiv%3D%22content-type%22%20content%3D%22text/html%3B%20charset%3DUTF-8%22%20/%3E%0A%20%20%20%20%0A%20%20%20%20%20%20%20%20%3Cscript%3E%0A%20%20%20%20%20%20%20%20%20%20%20%20L_NO_TOUCH%20%3D%20false%3B%0A%20%20%20%20%20%20%20%20%20%20%20%20L_DISABLE_3D%20%3D%20false%3B%0A%20%20%20%20%20%20%20%20%3C/script%3E%0A%20%20%20%20%0A%20%20%20%20%3Cstyle%3Ehtml%2C%20body%20%7Bwidth%3A%20100%25%3Bheight%3A%20100%25%3Bmargin%3A%200%3Bpadding%3A%200%3B%7D%3C/style%3E%0A%20%20%20%20%3Cstyle%3E%23map%20%7Bposition%3Aabsolute%3Btop%3A0%3Bbottom%3A0%3Bright%3A0%3Bleft%3A0%3B%7D%3C/style%3E%0A%20%20%20%20%3Cscript%20src%3D%22https%3A//cdn.jsdelivr.net/npm/leaflet%401.6.0/dist/leaflet.js%22%3E%3C/script%3E%0A%20%20%20%20%3Cscript%20src%3D%22https%3A//code.jquery.com/jquery-1.12.4.min.js%22%3E%3C/script%3E%0A%20%20%20%20%3Cscript%20src%3D%22https%3A//maxcdn.bootstrapcdn.com/bootstrap/3.2.0/js/bootstrap.min.js%22%3E%3C/script%3E%0A%20%20%20%20%3Cscript%20src%3D%22https%3A//cdnjs.cloudflare.com/ajax/libs/Leaflet.awesome-markers/2.0.2/leaflet.awesome-markers.js%22%3E%3C/script%3E%0A%20%20%20%20%3Clink%20rel%3D%22stylesheet%22%20href%3D%22https%3A//cdn.jsdelivr.net/npm/leaflet%401.6.0/dist/leaflet.css%22/%3E%0A%20%20%20%20%3Clink%20rel%3D%22stylesheet%22%20href%3D%22https%3A//maxcdn.bootstrapcdn.com/bootstrap/3.2.0/css/bootstrap.min.css%22/%3E%0A%20%20%20%20%3Clink%20rel%3D%22stylesheet%22%20href%3D%22https%3A//maxcdn.bootstrapcdn.com/bootstrap/3.2.0/css/bootstrap-theme.min.css%22/%3E%0A%20%20%20%20%3Clink%20rel%3D%22stylesheet%22%20href%3D%22https%3A//maxcdn.bootstrapcdn.com/font-awesome/4.6.3/css/font-awesome.min.css%22/%3E%0A%20%20%20%20%3Clink%20rel%3D%22stylesheet%22%20href%3D%22https%3A//cdnjs.cloudflare.com/ajax/libs/Leaflet.awesome-markers/2.0.2/leaflet.awesome-markers.css%22/%3E%0A%20%20%20%20%3Clink%20rel%3D%22stylesheet%22%20href%3D%22https%3A//cdn.jsdelivr.net/gh/python-visualization/folium/folium/templates/leaflet.awesome.rotate.min.css%22/%3E%0A%20%20%20%20%0A%20%20%20%20%20%20%20%20%20%20%20%20%3Cmeta%20name%3D%22viewport%22%20content%3D%22width%3Ddevice-width%2C%0A%20%20%20%20%20%20%20%20%20%20%20%20%20%20%20%20initial-scale%3D1.0%2C%20maximum-scale%3D1.0%2C%20user-scalable%3Dno%22%20/%3E%0A%20%20%20%20%20%20%20%20%20%20%20%20%3Cstyle%3E%0A%20%20%20%20%20%20%20%20%20%20%20%20%20%20%20%20%23map_6d2587463cd944dc85471538000b5c1b%20%7B%0A%20%20%20%20%20%20%20%20%20%20%20%20%20%20%20%20%20%20%20%20position%3A%20relative%3B%0A%20%20%20%20%20%20%20%20%20%20%20%20%20%20%20%20%20%20%20%20width%3A%20100.0%25%3B%0A%20%20%20%20%20%20%20%20%20%20%20%20%20%20%20%20%20%20%20%20height%3A%20100.0%25%3B%0A%20%20%20%20%20%20%20%20%20%20%20%20%20%20%20%20%20%20%20%20left%3A%200.0%25%3B%0A%20%20%20%20%20%20%20%20%20%20%20%20%20%20%20%20%20%20%20%20top%3A%200.0%25%3B%0A%20%20%20%20%20%20%20%20%20%20%20%20%20%20%20%20%7D%0A%20%20%20%20%20%20%20%20%20%20%20%20%3C/style%3E%0A%20%20%20%20%20%20%20%20%0A%3C/head%3E%0A%3Cbody%3E%20%20%20%20%0A%20%20%20%20%0A%20%20%20%20%20%20%20%20%20%20%20%20%3Cdiv%20class%3D%22folium-map%22%20id%3D%22map_6d2587463cd944dc85471538000b5c1b%22%20%3E%3C/div%3E%0A%20%20%20%20%20%20%20%20%0A%3C/body%3E%0A%3Cscript%3E%20%20%20%20%0A%20%20%20%20%0A%20%20%20%20%20%20%20%20%20%20%20%20var%20map_6d2587463cd944dc85471538000b5c1b%20%3D%20L.map%28%0A%20%20%20%20%20%20%20%20%20%20%20%20%20%20%20%20%22map_6d2587463cd944dc85471538000b5c1b%22%2C%0A%20%20%20%20%20%20%20%20%20%20%20%20%20%20%20%20%7B%0A%20%20%20%20%20%20%20%20%20%20%20%20%20%20%20%20%20%20%20%20center%3A%20%5B52.0893191%2C%205.1101691%5D%2C%0A%20%20%20%20%20%20%20%20%20%20%20%20%20%20%20%20%20%20%20%20crs%3A%20L.CRS.EPSG3857%2C%0A%20%20%20%20%20%20%20%20%20%20%20%20%20%20%20%20%20%20%20%20zoom%3A%208%2C%0A%20%20%20%20%20%20%20%20%20%20%20%20%20%20%20%20%20%20%20%20zoomControl%3A%20true%2C%0A%20%20%20%20%20%20%20%20%20%20%20%20%20%20%20%20%20%20%20%20preferCanvas%3A%20false%2C%0A%20%20%20%20%20%20%20%20%20%20%20%20%20%20%20%20%7D%0A%20%20%20%20%20%20%20%20%20%20%20%20%29%3B%0A%0A%20%20%20%20%20%20%20%20%20%20%20%20%0A%0A%20%20%20%20%20%20%20%20%0A%20%20%20%20%0A%20%20%20%20%20%20%20%20%20%20%20%20var%20tile_layer_faf56334ed37414f810ea9f95ccb7059%20%3D%20L.tileLayer%28%0A%20%20%20%20%20%20%20%20%20%20%20%20%20%20%20%20%22https%3A//%7Bs%7D.tile.openstreetmap.org/%7Bz%7D/%7Bx%7D/%7By%7D.png%22%2C%0A%20%20%20%20%20%20%20%20%20%20%20%20%20%20%20%20%7B%22attribution%22%3A%20%22Data%20by%20%5Cu0026copy%3B%20%5Cu003ca%20href%3D%5C%22http%3A//openstreetmap.org%5C%22%5Cu003eOpenStreetMap%5Cu003c/a%5Cu003e%2C%20under%20%5Cu003ca%20href%3D%5C%22http%3A//www.openstreetmap.org/copyright%5C%22%5Cu003eODbL%5Cu003c/a%5Cu003e.%22%2C%20%22detectRetina%22%3A%20false%2C%20%22maxNativeZoom%22%3A%2018%2C%20%22maxZoom%22%3A%2018%2C%20%22minZoom%22%3A%200%2C%20%22noWrap%22%3A%20false%2C%20%22opacity%22%3A%201%2C%20%22subdomains%22%3A%20%22abc%22%2C%20%22tms%22%3A%20false%7D%0A%20%20%20%20%20%20%20%20%20%20%20%20%29.addTo%28map_6d2587463cd944dc85471538000b5c1b%29%3B%0A%20%20%20%20%20%20%20%20%0A%20%20%20%20%0A%20%20%20%20%20%20%20%20%20%20%20%20var%20marker_071782249a354ba1a3c01314d949050c%20%3D%20L.marker%28%0A%20%20%20%20%20%20%20%20%20%20%20%20%20%20%20%20%5B52.0893191%2C%205.1101691%5D%2C%0A%20%20%20%20%20%20%20%20%20%20%20%20%20%20%20%20%7B%7D%0A%20%20%20%20%20%20%20%20%20%20%20%20%29.addTo%28map_6d2587463cd944dc85471538000b5c1b%29%3B%0A%20%20%20%20%20%20%20%20%0A%20%20%20%20%0A%20%20%20%20%20%20%20%20var%20popup_825853972d7544269bea2fc1792fcf57%20%3D%20L.popup%28%7B%22maxWidth%22%3A%20%22100%25%22%7D%29%3B%0A%0A%20%20%20%20%20%20%20%20%0A%20%20%20%20%20%20%20%20%20%20%20%20var%20html_28006b0500c14489afa41928a6797513%20%3D%20%24%28%60%3Cdiv%20id%3D%22html_28006b0500c14489afa41928a6797513%22%20style%3D%22width%3A%20100.0%25%3B%20height%3A%20100.0%25%3B%22%3E%3Cb%3EUtrecht%20centrum%3C/b%3E%3C/div%3E%60%29%5B0%5D%3B%0A%20%20%20%20%20%20%20%20%20%20%20%20popup_825853972d7544269bea2fc1792fcf57.setContent%28html_28006b0500c14489afa41928a6797513%29%3B%0A%20%20%20%20%20%20%20%20%0A%0A%20%20%20%20%20%20%20%20marker_071782249a354ba1a3c01314d949050c.bindPopup%28popup_825853972d7544269bea2fc1792fcf57%29%0A%20%20%20%20%20%20%20%20%3B%0A%0A%20%20%20%20%20%20%20%20%0A%20%20%20%20%0A%20%20%20%20%0A%20%20%20%20%20%20%20%20%20%20%20%20marker_071782249a354ba1a3c01314d949050c.bindTooltip%28%0A%20%20%20%20%20%20%20%20%20%20%20%20%20%20%20%20%60%3Cdiv%3E%0A%20%20%20%20%20%20%20%20%20%20%20%20%20%20%20%20%20%20%20%20%20Klik%20hier%20om%20de%20popup%20te%20zien%0A%20%20%20%20%20%20%20%20%20%20%20%20%20%20%20%20%20%3C/div%3E%60%2C%0A%20%20%20%20%20%20%20%20%20%20%20%20%20%20%20%20%7B%22sticky%22%3A%20true%7D%0A%20%20%20%20%20%20%20%20%20%20%20%20%29%3B%0A%20%20%20%20%20%20%20%20%0A%20%20%20%20%0A%20%20%20%20%20%20%20%20%20%20%20%20var%20marker_6eb61c3e27f04949888b2ee6c3c406bb%20%3D%20L.marker%28%0A%20%20%20%20%20%20%20%20%20%20%20%20%20%20%20%20%5B52.2291696%2C%205.1668974%5D%2C%0A%20%20%20%20%20%20%20%20%20%20%20%20%20%20%20%20%7B%7D%0A%20%20%20%20%20%20%20%20%20%20%20%20%29.addTo%28map_6d2587463cd944dc85471538000b5c1b%29%3B%0A%20%20%20%20%20%20%20%20%0A%20%20%20%20%0A%20%20%20%20%20%20%20%20var%20popup_bd3cd8c383064b77a2ca1e52a8fd5a68%20%3D%20L.popup%28%7B%22maxWidth%22%3A%20%22100%25%22%7D%29%3B%0A%0A%20%20%20%20%20%20%20%20%0A%20%20%20%20%20%20%20%20%20%20%20%20var%20html_b442d13b63b242299690819e6bf931e9%20%3D%20%24%28%60%3Cdiv%20id%3D%22html_b442d13b63b242299690819e6bf931e9%22%20style%3D%22width%3A%20100.0%25%3B%20height%3A%20100.0%25%3B%22%3E%3Cb%3EHilversum%3C/b%3E%3C/div%3E%60%29%5B0%5D%3B%0A%20%20%20%20%20%20%20%20%20%20%20%20popup_bd3cd8c383064b77a2ca1e52a8fd5a68.setContent%28html_b442d13b63b242299690819e6bf931e9%29%3B%0A%20%20%20%20%20%20%20%20%0A%0A%20%20%20%20%20%20%20%20marker_6eb61c3e27f04949888b2ee6c3c406bb.bindPopup%28popup_bd3cd8c383064b77a2ca1e52a8fd5a68%29%0A%20%20%20%20%20%20%20%20%3B%0A%0A%20%20%20%20%20%20%20%20%0A%20%20%20%20%0A%20%20%20%20%0A%20%20%20%20%20%20%20%20%20%20%20%20marker_6eb61c3e27f04949888b2ee6c3c406bb.bindTooltip%28%0A%20%20%20%20%20%20%20%20%20%20%20%20%20%20%20%20%60%3Cdiv%3E%0A%20%20%20%20%20%20%20%20%20%20%20%20%20%20%20%20%20%20%20%20%20Klik%20hier%20om%20de%20popup%20te%20zien%0A%20%20%20%20%20%20%20%20%20%20%20%20%20%20%20%20%20%3C/div%3E%60%2C%0A%20%20%20%20%20%20%20%20%20%20%20%20%20%20%20%20%7B%22sticky%22%3A%20true%7D%0A%20%20%20%20%20%20%20%20%20%20%20%20%29%3B%0A%20%20%20%20%20%20%20%20%0A%20%20%20%20%0A%20%20%20%20%20%20%20%20%20%20%20%20var%20marker_cfa62a6aa0a343f6a31c4269e93f7df7%20%3D%20L.marker%28%0A%20%20%20%20%20%20%20%20%20%20%20%20%20%20%20%20%5B52.373882%2C%204.891711%5D%2C%0A%20%20%20%20%20%20%20%20%20%20%20%20%20%20%20%20%7B%7D%0A%20%20%20%20%20%20%20%20%20%20%20%20%29.addTo%28map_6d2587463cd944dc85471538000b5c1b%29%3B%0A%20%20%20%20%20%20%20%20%0A%20%20%20%20%0A%20%20%20%20%20%20%20%20var%20popup_0c802a2c08054ed1b2d4fbd9c6889538%20%3D%20L.popup%28%7B%22maxWidth%22%3A%20%22100%25%22%7D%29%3B%0A%0A%20%20%20%20%20%20%20%20%0A%20%20%20%20%20%20%20%20%20%20%20%20var%20html_71441c09a78547b8ba74e558c1e08165%20%3D%20%24%28%60%3Cdiv%20id%3D%22html_71441c09a78547b8ba74e558c1e08165%22%20style%3D%22width%3A%20100.0%25%3B%20height%3A%20100.0%25%3B%22%3E%3Cb%3EAmsterdam%3C/b%3E%3C/div%3E%60%29%5B0%5D%3B%0A%20%20%20%20%20%20%20%20%20%20%20%20popup_0c802a2c08054ed1b2d4fbd9c6889538.setContent%28html_71441c09a78547b8ba74e558c1e08165%29%3B%0A%20%20%20%20%20%20%20%20%0A%0A%20%20%20%20%20%20%20%20marker_cfa62a6aa0a343f6a31c4269e93f7df7.bindPopup%28popup_0c802a2c08054ed1b2d4fbd9c6889538%29%0A%20%20%20%20%20%20%20%20%3B%0A%0A%20%20%20%20%20%20%20%20%0A%20%20%20%20%0A%20%20%20%20%0A%20%20%20%20%20%20%20%20%20%20%20%20marker_cfa62a6aa0a343f6a31c4269e93f7df7.bindTooltip%28%0A%20%20%20%20%20%20%20%20%20%20%20%20%20%20%20%20%60%3Cdiv%3E%0A%20%20%20%20%20%20%20%20%20%20%20%20%20%20%20%20%20%20%20%20%20Klik%20hier%20om%20de%20popup%20te%20zien%0A%20%20%20%20%20%20%20%20%20%20%20%20%20%20%20%20%20%3C/div%3E%60%2C%0A%20%20%20%20%20%20%20%20%20%20%20%20%20%20%20%20%7B%22sticky%22%3A%20true%7D%0A%20%20%20%20%20%20%20%20%20%20%20%20%29%3B%0A%20%20%20%20%20%20%20%20%0A%20%20%20%20%0A%20%20%20%20%20%20%20%20%20%20%20%20var%20tile_layer_b21ab303301b46efb3ef431bad3d2c17%20%3D%20L.tileLayer%28%0A%20%20%20%20%20%20%20%20%20%20%20%20%20%20%20%20%22https%3A//cartodb-basemaps-%7Bs%7D.global.ssl.fastly.net/dark_all/%7Bz%7D/%7Bx%7D/%7By%7D.png%22%2C%0A%20%20%20%20%20%20%20%20%20%20%20%20%20%20%20%20%7B%22attribution%22%3A%20%22%5Cu0026copy%3B%20%5Cu003ca%20href%3D%5C%22http%3A//www.openstreetmap.org/copyright%5C%22%5Cu003eOpenStreetMap%5Cu003c/a%5Cu003e%20contributors%20%5Cu0026copy%3B%20%5Cu003ca%20href%3D%5C%22http%3A//cartodb.com/attributions%5C%22%5Cu003eCartoDB%5Cu003c/a%5Cu003e%2C%20CartoDB%20%5Cu003ca%20href%20%3D%5C%22http%3A//cartodb.com/attributions%5C%22%5Cu003eattributions%5Cu003c/a%5Cu003e%22%2C%20%22detectRetina%22%3A%20false%2C%20%22maxNativeZoom%22%3A%2018%2C%20%22maxZoom%22%3A%2018%2C%20%22minZoom%22%3A%200%2C%20%22noWrap%22%3A%20false%2C%20%22opacity%22%3A%201%2C%20%22subdomains%22%3A%20%22abc%22%2C%20%22tms%22%3A%20false%7D%0A%20%20%20%20%20%20%20%20%20%20%20%20%29.addTo%28map_6d2587463cd944dc85471538000b5c1b%29%3B%0A%20%20%20%20%20%20%20%20%0A%20%20%20%20%0A%20%20%20%20%20%20%20%20%20%20%20%20var%20tile_layer_17d26f69618448a2866b35b653138e5d%20%3D%20L.tileLayer%28%0A%20%20%20%20%20%20%20%20%20%20%20%20%20%20%20%20%22https%3A//stamen-tiles-%7Bs%7D.a.ssl.fastly.net/toner/%7Bz%7D/%7Bx%7D/%7By%7D.png%22%2C%0A%20%20%20%20%20%20%20%20%20%20%20%20%20%20%20%20%7B%22attribution%22%3A%20%22Map%20tiles%20by%20%5Cu003ca%20href%3D%5C%22http%3A//stamen.com%5C%22%5Cu003eStamen%20Design%5Cu003c/a%5Cu003e%2C%20under%20%5Cu003ca%20href%3D%5C%22http%3A//creativecommons.org/licenses/by/3.0%5C%22%5Cu003eCC%20BY%203.0%5Cu003c/a%5Cu003e.%20Data%20by%20%5Cu0026copy%3B%20%5Cu003ca%20href%3D%5C%22http%3A//openstreetmap.org%5C%22%5Cu003eOpenStreetMap%5Cu003c/a%5Cu003e%2C%20under%20%5Cu003ca%20href%3D%5C%22http%3A//www.openstreetmap.org/copyright%5C%22%5Cu003eODbL%5Cu003c/a%5Cu003e.%22%2C%20%22detectRetina%22%3A%20false%2C%20%22maxNativeZoom%22%3A%2018%2C%20%22maxZoom%22%3A%2018%2C%20%22minZoom%22%3A%200%2C%20%22noWrap%22%3A%20false%2C%20%22opacity%22%3A%201%2C%20%22subdomains%22%3A%20%22abc%22%2C%20%22tms%22%3A%20false%7D%0A%20%20%20%20%20%20%20%20%20%20%20%20%29.addTo%28map_6d2587463cd944dc85471538000b5c1b%29%3B%0A%20%20%20%20%20%20%20%20%0A%20%20%20%20%0A%20%20%20%20%20%20%20%20%20%20%20%20var%20tile_layer_83381198d932453293d1a7a468b92d72%20%3D%20L.tileLayer%28%0A%20%20%20%20%20%20%20%20%20%20%20%20%20%20%20%20%22https%3A//cartodb-basemaps-%7Bs%7D.global.ssl.fastly.net/light_all/%7Bz%7D/%7Bx%7D/%7By%7D.png%22%2C%0A%20%20%20%20%20%20%20%20%20%20%20%20%20%20%20%20%7B%22attribution%22%3A%20%22%5Cu0026copy%3B%20%5Cu003ca%20href%3D%5C%22http%3A//www.openstreetmap.org/copyright%5C%22%5Cu003eOpenStreetMap%5Cu003c/a%5Cu003e%20contributors%20%5Cu0026copy%3B%20%5Cu003ca%20href%3D%5C%22http%3A//cartodb.com/attributions%5C%22%5Cu003eCartoDB%5Cu003c/a%5Cu003e%2C%20CartoDB%20%5Cu003ca%20href%20%3D%5C%22http%3A//cartodb.com/attributions%5C%22%5Cu003eattributions%5Cu003c/a%5Cu003e%22%2C%20%22detectRetina%22%3A%20false%2C%20%22maxNativeZoom%22%3A%2018%2C%20%22maxZoom%22%3A%2018%2C%20%22minZoom%22%3A%200%2C%20%22noWrap%22%3A%20false%2C%20%22opacity%22%3A%201%2C%20%22subdomains%22%3A%20%22abc%22%2C%20%22tms%22%3A%20false%7D%0A%20%20%20%20%20%20%20%20%20%20%20%20%29.addTo%28map_6d2587463cd944dc85471538000b5c1b%29%3B%0A%20%20%20%20%20%20%20%20%0A%20%20%20%20%0A%20%20%20%20%20%20%20%20%20%20%20%20var%20layer_control_c3ffd69b464c43cca96690d890baebbc%20%3D%20%7B%0A%20%20%20%20%20%20%20%20%20%20%20%20%20%20%20%20base_layers%20%3A%20%7B%0A%20%20%20%20%20%20%20%20%20%20%20%20%20%20%20%20%20%20%20%20%22openstreetmap%22%20%3A%20tile_layer_faf56334ed37414f810ea9f95ccb7059%2C%0A%20%20%20%20%20%20%20%20%20%20%20%20%20%20%20%20%20%20%20%20%22cartodbdark_matter%22%20%3A%20tile_layer_b21ab303301b46efb3ef431bad3d2c17%2C%0A%20%20%20%20%20%20%20%20%20%20%20%20%20%20%20%20%20%20%20%20%22stamentoner%22%20%3A%20tile_layer_17d26f69618448a2866b35b653138e5d%2C%0A%20%20%20%20%20%20%20%20%20%20%20%20%20%20%20%20%20%20%20%20%22cartodbpositron%22%20%3A%20tile_layer_83381198d932453293d1a7a468b92d72%2C%0A%20%20%20%20%20%20%20%20%20%20%20%20%20%20%20%20%7D%2C%0A%20%20%20%20%20%20%20%20%20%20%20%20%20%20%20%20overlays%20%3A%20%20%7B%0A%20%20%20%20%20%20%20%20%20%20%20%20%20%20%20%20%7D%2C%0A%20%20%20%20%20%20%20%20%20%20%20%20%7D%3B%0A%20%20%20%20%20%20%20%20%20%20%20%20L.control.layers%28%0A%20%20%20%20%20%20%20%20%20%20%20%20%20%20%20%20layer_control_c3ffd69b464c43cca96690d890baebbc.base_layers%2C%0A%20%20%20%20%20%20%20%20%20%20%20%20%20%20%20%20layer_control_c3ffd69b464c43cca96690d890baebbc.overlays%2C%0A%20%20%20%20%20%20%20%20%20%20%20%20%20%20%20%20%7B%22autoZIndex%22%3A%20true%2C%20%22collapsed%22%3A%20true%2C%20%22position%22%3A%20%22topright%22%7D%0A%20%20%20%20%20%20%20%20%20%20%20%20%29.addTo%28map_6d2587463cd944dc85471538000b5c1b%29%3B%0A%20%20%20%20%20%20%20%20%20%20%20%20tile_layer_b21ab303301b46efb3ef431bad3d2c17.remove%28%29%3B%0A%20%20%20%20%20%20%20%20%20%20%20%20tile_layer_17d26f69618448a2866b35b653138e5d.remove%28%29%3B%0A%20%20%20%20%20%20%20%20%20%20%20%20tile_layer_83381198d932453293d1a7a468b92d72.remove%28%29%3B%0A%20%20%20%20%20%20%20%20%0A%3C/script%3E onload=\"this.contentDocument.open();this.contentDocument.write(    decodeURIComponent(this.getAttribute('data-html')));this.contentDocument.close();\" allowfullscreen webkitallowfullscreen mozallowfullscreen></iframe></div></div>"
     },
     "execution_count": 5,
     "metadata": {},
     "output_type": "execute_result"
    }
   ],
   "metadata": {}
  },
  {
   "cell_type": "markdown",
   "source": [
    "# Deel 2 - NO2 metingen"
   ],
   "metadata": {}
  },
  {
   "cell_type": "markdown",
   "source": [
    "Voor dit deel gaan we kijken naar NO2 metingen in Amsterdam. We hebben de dataset NO2. Deze dataset bevat metingen van NO2 op verschillende locaties vanaf 2010 t/m 2019."
   ],
   "metadata": {}
  },
  {
   "cell_type": "code",
   "execution_count": 6,
   "source": [
    "import pandas as pd\r\n",
    "\r\n",
    "NO2 = pd.read_csv('NO2_JAREN.csv', sep=\";\", decimal=',')\r\n",
    "\r\n",
    "NO2.head()"
   ],
   "outputs": [
    {
     "data": {
      "text/plain": "   OBJECTNUMMER    Code               Locatie Type_meetpunt Type_meting  \\\n0             1   IJB19         Ijsbaanpad 19   Achtergrond      Palmes   \n1             2  DECL40    de Clercqstraat 40        Straat      Palmes   \n2             3  SPD165  Spaarndammerdijk 165        Straat      Palmes   \n3             4   SPD53   Spaarndammerdijk 53        Straat      Palmes   \n4             5   SPD29   Spaarndammerdijk 29        Straat      Palmes   \n\n  Meting_op_wettelijke_toetsafst  Afstand_tot_gevel_m  jaar_2020  jaar_2019  \\\n0                            NaN                  0.0          0       25.9   \n1                            Nee                  0.0          0       31.6   \n2                             Ja                  0.0          0       32.4   \n3                             Ja                  0.0          0       30.7   \n4                             Ja                  0.0          0       31.5   \n\n   jaar_2018  jaar_2017  jaar_2016  jaar_2015  jaar_2014  jaar_2013  \\\n0       26.8       29.2       28.4       26.6       27.3       31.1   \n1       29.6       38.4       42.1       38.5       39.5       38.0   \n2       33.3       51.2       49.2        0.0        0.0        0.0   \n3       31.4       43.1        0.0        0.0       40.5       38.4   \n4       29.8       44.4        0.0        0.0       38.8       38.0   \n\n   jaar_2012  jaar_2011  jaar_2010       LNG        LAT  \n0       31.8       31.3       31.0  4.853005  52.341093  \n1       39.7       40.6       43.4  4.871005  52.370993  \n2        0.0        0.0        0.0  4.875005  52.392793  \n3       43.5       44.1        0.0  4.876005  52.392993  \n4       41.5       43.3        0.0  4.877005  52.391993  ",
      "text/html": "<div>\n<style scoped>\n    .dataframe tbody tr th:only-of-type {\n        vertical-align: middle;\n    }\n\n    .dataframe tbody tr th {\n        vertical-align: top;\n    }\n\n    .dataframe thead th {\n        text-align: right;\n    }\n</style>\n<table border=\"1\" class=\"dataframe\">\n  <thead>\n    <tr style=\"text-align: right;\">\n      <th></th>\n      <th>OBJECTNUMMER</th>\n      <th>Code</th>\n      <th>Locatie</th>\n      <th>Type_meetpunt</th>\n      <th>Type_meting</th>\n      <th>Meting_op_wettelijke_toetsafst</th>\n      <th>Afstand_tot_gevel_m</th>\n      <th>jaar_2020</th>\n      <th>jaar_2019</th>\n      <th>jaar_2018</th>\n      <th>jaar_2017</th>\n      <th>jaar_2016</th>\n      <th>jaar_2015</th>\n      <th>jaar_2014</th>\n      <th>jaar_2013</th>\n      <th>jaar_2012</th>\n      <th>jaar_2011</th>\n      <th>jaar_2010</th>\n      <th>LNG</th>\n      <th>LAT</th>\n    </tr>\n  </thead>\n  <tbody>\n    <tr>\n      <th>0</th>\n      <td>1</td>\n      <td>IJB19</td>\n      <td>Ijsbaanpad 19</td>\n      <td>Achtergrond</td>\n      <td>Palmes</td>\n      <td>NaN</td>\n      <td>0.0</td>\n      <td>0</td>\n      <td>25.9</td>\n      <td>26.8</td>\n      <td>29.2</td>\n      <td>28.4</td>\n      <td>26.6</td>\n      <td>27.3</td>\n      <td>31.1</td>\n      <td>31.8</td>\n      <td>31.3</td>\n      <td>31.0</td>\n      <td>4.853005</td>\n      <td>52.341093</td>\n    </tr>\n    <tr>\n      <th>1</th>\n      <td>2</td>\n      <td>DECL40</td>\n      <td>de Clercqstraat 40</td>\n      <td>Straat</td>\n      <td>Palmes</td>\n      <td>Nee</td>\n      <td>0.0</td>\n      <td>0</td>\n      <td>31.6</td>\n      <td>29.6</td>\n      <td>38.4</td>\n      <td>42.1</td>\n      <td>38.5</td>\n      <td>39.5</td>\n      <td>38.0</td>\n      <td>39.7</td>\n      <td>40.6</td>\n      <td>43.4</td>\n      <td>4.871005</td>\n      <td>52.370993</td>\n    </tr>\n    <tr>\n      <th>2</th>\n      <td>3</td>\n      <td>SPD165</td>\n      <td>Spaarndammerdijk 165</td>\n      <td>Straat</td>\n      <td>Palmes</td>\n      <td>Ja</td>\n      <td>0.0</td>\n      <td>0</td>\n      <td>32.4</td>\n      <td>33.3</td>\n      <td>51.2</td>\n      <td>49.2</td>\n      <td>0.0</td>\n      <td>0.0</td>\n      <td>0.0</td>\n      <td>0.0</td>\n      <td>0.0</td>\n      <td>0.0</td>\n      <td>4.875005</td>\n      <td>52.392793</td>\n    </tr>\n    <tr>\n      <th>3</th>\n      <td>4</td>\n      <td>SPD53</td>\n      <td>Spaarndammerdijk 53</td>\n      <td>Straat</td>\n      <td>Palmes</td>\n      <td>Ja</td>\n      <td>0.0</td>\n      <td>0</td>\n      <td>30.7</td>\n      <td>31.4</td>\n      <td>43.1</td>\n      <td>0.0</td>\n      <td>0.0</td>\n      <td>40.5</td>\n      <td>38.4</td>\n      <td>43.5</td>\n      <td>44.1</td>\n      <td>0.0</td>\n      <td>4.876005</td>\n      <td>52.392993</td>\n    </tr>\n    <tr>\n      <th>4</th>\n      <td>5</td>\n      <td>SPD29</td>\n      <td>Spaarndammerdijk 29</td>\n      <td>Straat</td>\n      <td>Palmes</td>\n      <td>Ja</td>\n      <td>0.0</td>\n      <td>0</td>\n      <td>31.5</td>\n      <td>29.8</td>\n      <td>44.4</td>\n      <td>0.0</td>\n      <td>0.0</td>\n      <td>38.8</td>\n      <td>38.0</td>\n      <td>41.5</td>\n      <td>43.3</td>\n      <td>0.0</td>\n      <td>4.877005</td>\n      <td>52.391993</td>\n    </tr>\n  </tbody>\n</table>\n</div>"
     },
     "execution_count": 6,
     "metadata": {},
     "output_type": "execute_result"
    }
   ],
   "metadata": {}
  },
  {
   "cell_type": "code",
   "execution_count": 7,
   "source": [
    "NO2.info()"
   ],
   "outputs": [
    {
     "name": "stdout",
     "output_type": "stream",
     "text": [
      "<class 'pandas.core.frame.DataFrame'>\n",
      "RangeIndex: 142 entries, 0 to 141\n",
      "Data columns (total 20 columns):\n",
      " #   Column                          Non-Null Count  Dtype  \n",
      "---  ------                          --------------  -----  \n",
      " 0   OBJECTNUMMER                    142 non-null    int64  \n",
      " 1   Code                            142 non-null    object \n",
      " 2   Locatie                         142 non-null    object \n",
      " 3   Type_meetpunt                   142 non-null    object \n",
      " 4   Type_meting                     142 non-null    object \n",
      " 5   Meting_op_wettelijke_toetsafst  83 non-null     object \n",
      " 6   Afstand_tot_gevel_m             142 non-null    float64\n",
      " 7   jaar_2020                       142 non-null    int64  \n",
      " 8   jaar_2019                       142 non-null    float64\n",
      " 9   jaar_2018                       142 non-null    float64\n",
      " 10  jaar_2017                       142 non-null    float64\n",
      " 11  jaar_2016                       142 non-null    float64\n",
      " 12  jaar_2015                       142 non-null    float64\n",
      " 13  jaar_2014                       142 non-null    float64\n",
      " 14  jaar_2013                       142 non-null    float64\n",
      " 15  jaar_2012                       142 non-null    float64\n",
      " 16  jaar_2011                       142 non-null    float64\n",
      " 17  jaar_2010                       142 non-null    float64\n",
      " 18  LNG                             142 non-null    float64\n",
      " 19  LAT                             142 non-null    float64\n",
      "dtypes: float64(13), int64(2), object(5)\n",
      "memory usage: 22.3+ KB\n"
     ]
    }
   ],
   "metadata": {}
  },
  {
   "cell_type": "code",
   "execution_count": 8,
   "source": [
    "NO2.describe()"
   ],
   "outputs": [
    {
     "data": {
      "text/plain": "       OBJECTNUMMER  Afstand_tot_gevel_m  jaar_2020   jaar_2019   jaar_2018  \\\ncount    142.000000           142.000000      142.0  142.000000  142.000000   \nmean      71.500000             2.568310        0.0   27.989437   28.030986   \nstd       41.135953             5.012741        0.0    9.551798   13.125154   \nmin        1.000000             0.000000        0.0    0.000000    0.000000   \n25%       36.250000             0.000000        0.0   23.750000   23.750000   \n50%       71.500000             0.000000        0.0   28.800000   29.950000   \n75%      106.750000             3.900000        0.0   33.450000   35.600000   \nmax      142.000000            31.300000        0.0   45.900000   51.500000   \n\n        jaar_2017   jaar_2016   jaar_2015   jaar_2014   jaar_2013   jaar_2012  \\\ncount  142.000000  142.000000  142.000000  142.000000  142.000000  142.000000   \nmean    30.529577   26.921831   23.666197   24.446479   24.207042   24.594366   \nstd     15.486429   16.872064   16.849824   17.686296   17.694711   19.511378   \nmin      0.000000    0.000000    0.000000    0.000000    0.000000    0.000000   \n25%     26.150000   23.125000    0.000000    0.000000    0.000000    0.000000   \n50%     32.200000   29.750000   27.150000   28.150000   28.500000   29.750000   \n75%     40.400000   39.275000   35.750000   38.275000   37.775000   40.700000   \nmax     58.500000   56.000000   56.800000   55.800000   56.000000   58.500000   \n\n        jaar_2011   jaar_2010         LNG         LAT  \ncount  142.000000  142.000000  142.000000  142.000000  \nmean    23.638028   23.444366    4.897496   52.367660  \nstd     19.850261   20.108534    0.035967    0.017811  \nmin      0.000000    0.000000    4.774418   52.314793  \n25%      0.000000    0.000000    4.875055   52.357993  \n50%     29.450000   30.050000    4.898155   52.370193  \n75%     40.675000   41.475000    4.912147   52.376993  \nmax     59.500000   59.300000    4.996105   52.425378  ",
      "text/html": "<div>\n<style scoped>\n    .dataframe tbody tr th:only-of-type {\n        vertical-align: middle;\n    }\n\n    .dataframe tbody tr th {\n        vertical-align: top;\n    }\n\n    .dataframe thead th {\n        text-align: right;\n    }\n</style>\n<table border=\"1\" class=\"dataframe\">\n  <thead>\n    <tr style=\"text-align: right;\">\n      <th></th>\n      <th>OBJECTNUMMER</th>\n      <th>Afstand_tot_gevel_m</th>\n      <th>jaar_2020</th>\n      <th>jaar_2019</th>\n      <th>jaar_2018</th>\n      <th>jaar_2017</th>\n      <th>jaar_2016</th>\n      <th>jaar_2015</th>\n      <th>jaar_2014</th>\n      <th>jaar_2013</th>\n      <th>jaar_2012</th>\n      <th>jaar_2011</th>\n      <th>jaar_2010</th>\n      <th>LNG</th>\n      <th>LAT</th>\n    </tr>\n  </thead>\n  <tbody>\n    <tr>\n      <th>count</th>\n      <td>142.000000</td>\n      <td>142.000000</td>\n      <td>142.0</td>\n      <td>142.000000</td>\n      <td>142.000000</td>\n      <td>142.000000</td>\n      <td>142.000000</td>\n      <td>142.000000</td>\n      <td>142.000000</td>\n      <td>142.000000</td>\n      <td>142.000000</td>\n      <td>142.000000</td>\n      <td>142.000000</td>\n      <td>142.000000</td>\n      <td>142.000000</td>\n    </tr>\n    <tr>\n      <th>mean</th>\n      <td>71.500000</td>\n      <td>2.568310</td>\n      <td>0.0</td>\n      <td>27.989437</td>\n      <td>28.030986</td>\n      <td>30.529577</td>\n      <td>26.921831</td>\n      <td>23.666197</td>\n      <td>24.446479</td>\n      <td>24.207042</td>\n      <td>24.594366</td>\n      <td>23.638028</td>\n      <td>23.444366</td>\n      <td>4.897496</td>\n      <td>52.367660</td>\n    </tr>\n    <tr>\n      <th>std</th>\n      <td>41.135953</td>\n      <td>5.012741</td>\n      <td>0.0</td>\n      <td>9.551798</td>\n      <td>13.125154</td>\n      <td>15.486429</td>\n      <td>16.872064</td>\n      <td>16.849824</td>\n      <td>17.686296</td>\n      <td>17.694711</td>\n      <td>19.511378</td>\n      <td>19.850261</td>\n      <td>20.108534</td>\n      <td>0.035967</td>\n      <td>0.017811</td>\n    </tr>\n    <tr>\n      <th>min</th>\n      <td>1.000000</td>\n      <td>0.000000</td>\n      <td>0.0</td>\n      <td>0.000000</td>\n      <td>0.000000</td>\n      <td>0.000000</td>\n      <td>0.000000</td>\n      <td>0.000000</td>\n      <td>0.000000</td>\n      <td>0.000000</td>\n      <td>0.000000</td>\n      <td>0.000000</td>\n      <td>0.000000</td>\n      <td>4.774418</td>\n      <td>52.314793</td>\n    </tr>\n    <tr>\n      <th>25%</th>\n      <td>36.250000</td>\n      <td>0.000000</td>\n      <td>0.0</td>\n      <td>23.750000</td>\n      <td>23.750000</td>\n      <td>26.150000</td>\n      <td>23.125000</td>\n      <td>0.000000</td>\n      <td>0.000000</td>\n      <td>0.000000</td>\n      <td>0.000000</td>\n      <td>0.000000</td>\n      <td>0.000000</td>\n      <td>4.875055</td>\n      <td>52.357993</td>\n    </tr>\n    <tr>\n      <th>50%</th>\n      <td>71.500000</td>\n      <td>0.000000</td>\n      <td>0.0</td>\n      <td>28.800000</td>\n      <td>29.950000</td>\n      <td>32.200000</td>\n      <td>29.750000</td>\n      <td>27.150000</td>\n      <td>28.150000</td>\n      <td>28.500000</td>\n      <td>29.750000</td>\n      <td>29.450000</td>\n      <td>30.050000</td>\n      <td>4.898155</td>\n      <td>52.370193</td>\n    </tr>\n    <tr>\n      <th>75%</th>\n      <td>106.750000</td>\n      <td>3.900000</td>\n      <td>0.0</td>\n      <td>33.450000</td>\n      <td>35.600000</td>\n      <td>40.400000</td>\n      <td>39.275000</td>\n      <td>35.750000</td>\n      <td>38.275000</td>\n      <td>37.775000</td>\n      <td>40.700000</td>\n      <td>40.675000</td>\n      <td>41.475000</td>\n      <td>4.912147</td>\n      <td>52.376993</td>\n    </tr>\n    <tr>\n      <th>max</th>\n      <td>142.000000</td>\n      <td>31.300000</td>\n      <td>0.0</td>\n      <td>45.900000</td>\n      <td>51.500000</td>\n      <td>58.500000</td>\n      <td>56.000000</td>\n      <td>56.800000</td>\n      <td>55.800000</td>\n      <td>56.000000</td>\n      <td>58.500000</td>\n      <td>59.500000</td>\n      <td>59.300000</td>\n      <td>4.996105</td>\n      <td>52.425378</td>\n    </tr>\n  </tbody>\n</table>\n</div>"
     },
     "execution_count": 8,
     "metadata": {},
     "output_type": "execute_result"
    }
   ],
   "metadata": {}
  },
  {
   "cell_type": "markdown",
   "source": [
    "## Onderdeel 3"
   ],
   "metadata": {}
  },
  {
   "cell_type": "markdown",
   "source": [
    "In deze opdracht gaan we toewerken naar het verwerken van de data van de NO2-metingen op de kaart. De data willen we graag in kleur. Hiervoor gaan we een geschikt kleurenpalet samenstellen. Defineer een functie `color_producer` die voor elke type meetpunt, een kleur toewijst. Er is hieronder al een begin gemaakt. Je kunt de site https://matplotlib.org/3.1.0/gallery/color/named_colors.html gebruiken voor de verschillende kleurnamen. Bij het uitvoeren van de functie color_producer(NO2.Type_meetpunt[0]), komt daar een kleurnaam uit."
   ],
   "metadata": {}
  },
  {
   "cell_type": "code",
   "execution_count": 9,
   "source": [
    "NO2.Type_meetpunt.unique()"
   ],
   "outputs": [
    {
     "data": {
      "text/plain": "array(['Achtergrond', 'Straat', 'Snelweg', 'Waterweg', 'Meetstation'],\n      dtype=object)"
     },
     "execution_count": 9,
     "metadata": {},
     "output_type": "execute_result"
    }
   ],
   "metadata": {}
  },
  {
   "cell_type": "code",
   "execution_count": 10,
   "source": [
    "def color_producer(type):\r\n",
    "   if type == \"Achtergrond\":\r\n",
    "      return \"cyan\"\r\n",
    "   elif type == \"Straat\":\r\n",
    "      return \"purple\"\r\n",
    "   elif type == \"Snelweg\":\r\n",
    "      return \"red\"\r\n",
    "   elif type == \"Waterweg\":\r\n",
    "      return \"lightgreen\"\r\n",
    "   elif type == \"Meetstation\":\r\n",
    "      return \"orange\" "
   ],
   "outputs": [],
   "metadata": {}
  },
  {
   "cell_type": "code",
   "execution_count": 11,
   "source": [
    "# Hieruit zou een kleurnaam moeten komen\r\n",
    "color_producer(NO2.Type_meetpunt[0])"
   ],
   "outputs": [
    {
     "data": {
      "text/plain": "'cyan'"
     },
     "execution_count": 11,
     "metadata": {},
     "output_type": "execute_result"
    }
   ],
   "metadata": {}
  },
  {
   "cell_type": "markdown",
   "source": [
    "## Onderdeel 4"
   ],
   "metadata": {}
  },
  {
   "cell_type": "markdown",
   "source": [
    "Maak nu een kaart van NO2 metingen in Amsterdam met de volgende eisen:\n",
    "\n",
    "- De kaartlaag is zelf niet in kleur.\n",
    "- De locaties (een regel in het dataframe) worden door cirkelvormige markeringen weergegeven.\n",
    "- Als je in de kaart op een meetpunt klikt wordt het adres zichtbaar\n",
    "- De kleur (rand en opvulling) van het weergegeven meetpunt wordt bepaald door de functie color_producer() afhankelijk van de variabele Type_meetpunt.\n",
    "- De grootte van het meetpunt (straal) is evenredig met de waarde van de gemeten hoeveelheid stikstof.\n",
    "- Het jaar is te selecteren.\n",
    "- Je plaatst een legenda met correcte titel en labels, je gebruikt immers kleuren die een uitleg nodig hebben.\n"
   ],
   "metadata": {}
  },
  {
   "cell_type": "code",
   "execution_count": 12,
   "source": [
    "m = folium.Map(location=[52.0893191, 5.1101691], zoom_start=9)\r\n",
    "\r\n",
    "m = add_categorical_legend(m, 'Meetpunt types',\r\n",
    "                             colors = [color_producer(label) for label in NO2.Type_meetpunt.unique()],\r\n",
    "                           labels = NO2.Type_meetpunt.unique())\r\n",
    "\r\n",
    "year_columns = [col for col in NO2 if col.startswith('jaar_')]\r\n",
    "for year in year_columns:\r\n",
    "  fg = folium.FeatureGroup(name=year)\r\n",
    "  NO2.apply(lambda x: fg.add_child(folium.CircleMarker(location=[x['LAT'], x['LNG']], radius=x[year] * .5, popup=x['Locatie'], fill_opacity=.5, fill_color=color_producer(x[\"Type_meetpunt\"]), color=color_producer(x[\"Type_meetpunt\"]), tooltip='Klik hier om de popup te zien')), axis=1)\r\n",
    "  m.add_child(fg)\r\n",
    "\r\n",
    "folium.LayerControl(position='topleft').add_to(m)\r\n",
    "m"
   ],
   "outputs": [
    {
     "ename": "NameError",
     "evalue": "name 'add_categorical_legend' is not defined",
     "output_type": "error",
     "traceback": [
      "\u001B[1;31m---------------------------------------------------------------------------\u001B[0m",
      "\u001B[1;31mNameError\u001B[0m                                 Traceback (most recent call last)",
      "\u001B[1;32m~\\AppData\\Local\\Temp/ipykernel_42780/2273228260.py\u001B[0m in \u001B[0;36m<module>\u001B[1;34m\u001B[0m\n\u001B[0;32m      1\u001B[0m \u001B[0mm\u001B[0m \u001B[1;33m=\u001B[0m \u001B[0mfolium\u001B[0m\u001B[1;33m.\u001B[0m\u001B[0mMap\u001B[0m\u001B[1;33m(\u001B[0m\u001B[0mlocation\u001B[0m\u001B[1;33m=\u001B[0m\u001B[1;33m[\u001B[0m\u001B[1;36m52.0893191\u001B[0m\u001B[1;33m,\u001B[0m \u001B[1;36m5.1101691\u001B[0m\u001B[1;33m]\u001B[0m\u001B[1;33m,\u001B[0m \u001B[0mzoom_start\u001B[0m\u001B[1;33m=\u001B[0m\u001B[1;36m9\u001B[0m\u001B[1;33m)\u001B[0m\u001B[1;33m\u001B[0m\u001B[1;33m\u001B[0m\u001B[0m\n\u001B[0;32m      2\u001B[0m \u001B[1;33m\u001B[0m\u001B[0m\n\u001B[1;32m----> 3\u001B[1;33m m = add_categorical_legend(m, 'Meetpunt types',\n\u001B[0m\u001B[0;32m      4\u001B[0m                              \u001B[0mcolors\u001B[0m \u001B[1;33m=\u001B[0m \u001B[1;33m[\u001B[0m\u001B[0mcolor_producer\u001B[0m\u001B[1;33m(\u001B[0m\u001B[0mlabel\u001B[0m\u001B[1;33m)\u001B[0m \u001B[1;32mfor\u001B[0m \u001B[0mlabel\u001B[0m \u001B[1;32min\u001B[0m \u001B[0mNO2\u001B[0m\u001B[1;33m.\u001B[0m\u001B[0mType_meetpunt\u001B[0m\u001B[1;33m.\u001B[0m\u001B[0munique\u001B[0m\u001B[1;33m(\u001B[0m\u001B[1;33m)\u001B[0m\u001B[1;33m]\u001B[0m\u001B[1;33m,\u001B[0m\u001B[1;33m\u001B[0m\u001B[1;33m\u001B[0m\u001B[0m\n\u001B[0;32m      5\u001B[0m                            labels = NO2.Type_meetpunt.unique())\n",
      "\u001B[1;31mNameError\u001B[0m: name 'add_categorical_legend' is not defined"
     ]
    }
   ],
   "metadata": {}
  },
  {
   "cell_type": "code",
   "execution_count": null,
   "source": [
    "#  ik heb een functie gevonden op het internet voor het toevoegen van een categorische legenda:\r\n",
    "# (bron: https://stackoverflow.com/questions/65042654/how-to-add-categorical-legend-to-python-folium-map)\r\n",
    "\r\n",
    "def add_categorical_legend(folium_map, title, colors, labels):\r\n",
    "    if len(colors) != len(labels):\r\n",
    "        raise ValueError(\"colors and labels must have the same length.\")\r\n",
    "\r\n",
    "    color_by_label = dict(zip(labels, colors))\r\n",
    "    \r\n",
    "    legend_categories = \"\"     \r\n",
    "    for label, color in color_by_label.items():\r\n",
    "        legend_categories += f\"<li><span style='background:{color}'></span>{label}</li>\"\r\n",
    "        \r\n",
    "    legend_html = f\"\"\"\r\n",
    "    <div id='maplegend' class='maplegend'>\r\n",
    "      <div class='legend-title'>{title}</div>\r\n",
    "      <div class='legend-scale'>\r\n",
    "        <ul class='legend-labels'>\r\n",
    "        {legend_categories}\r\n",
    "        </ul>\r\n",
    "      </div>\r\n",
    "    </div>\r\n",
    "    \"\"\"\r\n",
    "    script = f\"\"\"\r\n",
    "        <script type=\"text/javascript\">\r\n",
    "        var oneTimeExecution = (function() {{\r\n",
    "                    var executed = false;\r\n",
    "                    return function() {{\r\n",
    "                        if (!executed) {{\r\n",
    "                             var checkExist = setInterval(function() {{\r\n",
    "                                       if ((document.getElementsByClassName('leaflet-top leaflet-right').length) || (!executed)) {{\r\n",
    "                                          document.getElementsByClassName('leaflet-top leaflet-right')[0].style.display = \"flex\"\r\n",
    "                                          document.getElementsByClassName('leaflet-top leaflet-right')[0].style.flexDirection = \"column\"\r\n",
    "                                          document.getElementsByClassName('leaflet-top leaflet-right')[0].innerHTML += `{legend_html}`;\r\n",
    "                                          clearInterval(checkExist);\r\n",
    "                                          executed = true;\r\n",
    "                                       }}\r\n",
    "                                    }}, 100);\r\n",
    "                        }}\r\n",
    "                    }};\r\n",
    "                }})();\r\n",
    "        oneTimeExecution()\r\n",
    "        </script>\r\n",
    "      \"\"\"\r\n",
    "   \r\n",
    "\r\n",
    "    css = \"\"\"\r\n",
    "\r\n",
    "    <style type='text/css'>\r\n",
    "      .maplegend {\r\n",
    "        z-index:9999;\r\n",
    "        float:right;\r\n",
    "        background-color: rgba(255, 255, 255, 1);\r\n",
    "        border-radius: 5px;\r\n",
    "        border: 2px solid #bbb;\r\n",
    "        padding: 10px;\r\n",
    "        font-size:12px;\r\n",
    "        positon: relative;\r\n",
    "      }\r\n",
    "      .maplegend .legend-title {\r\n",
    "        text-align: left;\r\n",
    "        margin-bottom: 5px;\r\n",
    "        font-weight: bold;\r\n",
    "        font-size: 90%;\r\n",
    "        }\r\n",
    "      .maplegend .legend-scale ul {\r\n",
    "        margin: 0;\r\n",
    "        margin-bottom: 5px;\r\n",
    "        padding: 0;\r\n",
    "        float: left;\r\n",
    "        list-style: none;\r\n",
    "        }\r\n",
    "      .maplegend .legend-scale ul li {\r\n",
    "        font-size: 80%;\r\n",
    "        list-style: none;\r\n",
    "        margin-left: 0;\r\n",
    "        line-height: 18px;\r\n",
    "        margin-bottom: 2px;\r\n",
    "        }\r\n",
    "      .maplegend ul.legend-labels li span {\r\n",
    "        display: block;\r\n",
    "        float: left;\r\n",
    "        height: 16px;\r\n",
    "        width: 30px;\r\n",
    "        margin-right: 5px;\r\n",
    "        margin-left: 0;\r\n",
    "        border: 0px solid #ccc;\r\n",
    "        }\r\n",
    "      .maplegend .legend-source {\r\n",
    "        font-size: 80%;\r\n",
    "        color: #777;\r\n",
    "        clear: both;\r\n",
    "        }\r\n",
    "      .maplegend a {\r\n",
    "        color: #777;\r\n",
    "        }\r\n",
    "    </style>\r\n",
    "    \"\"\"\r\n",
    "\r\n",
    "    folium_map.get_root().header.add_child(folium.Element(script + css))\r\n",
    "\r\n",
    "    return folium_map"
   ],
   "outputs": [],
   "metadata": {}
  },
  {
   "cell_type": "markdown",
   "source": [
    "## Onderdeel 5"
   ],
   "metadata": {}
  },
  {
   "cell_type": "markdown",
   "source": [
    "Beschrijf op basis van, en met onderbouwing door, de gemaakte afbeeldingen in onderdeel 4:\r\n",
    "\r\n",
    "- Het weergeeft de grootte van de stikstof metingen op de gegeven locaties. Deste groter de circle, deste groter de stikstof meting is. Daarnaast is het mogelijk om meerdere jaren te selecteren van de menus links. Ieder type heeft zijn eigen kleur. De meetpunt types representeren de locaties/types waar de metingen plaats vonden. Neem bijvoorbeeld het type 'Snelweg'. Zoals u kunt zien vallen deze punten op de map naast of op een snelweg. Het zelfde geldt voor de 'Waterweg'."
   ],
   "metadata": {}
  },
  {
   "cell_type": "markdown",
   "source": [
    "# Deel 3 - WHO data"
   ],
   "metadata": {}
  },
  {
   "cell_type": "markdown",
   "source": [
    "De Wereldgezondheidsorganisatie publiceert veel data. Denk aan de leversverwachting, het BMI en het aantal doden op de weg. Kies een willekeurige dataset per land en zoek een geojson file met landen. "
   ],
   "metadata": {}
  },
  {
   "cell_type": "markdown",
   "source": [
    "## Onderdeel 6"
   ],
   "metadata": {}
  },
  {
   "cell_type": "markdown",
   "source": [
    "Laad de data van de WHO en de geojson file in en voeg deze samen."
   ],
   "metadata": {}
  },
  {
   "cell_type": "code",
   "execution_count": null,
   "source": [
    "df_who = pd.read_csv(\"Life_Expectancy_Data.csv\")\r\n",
    "df_geo_countries = gpd.read_file(\"countries.geojson\")\r\n",
    "\r\n",
    "df_who.head()"
   ],
   "outputs": [],
   "metadata": {}
  },
  {
   "cell_type": "code",
   "execution_count": null,
   "source": [
    "df_geo_countries.head()"
   ],
   "outputs": [],
   "metadata": {}
  },
  {
   "cell_type": "code",
   "execution_count": null,
   "source": [
    "df_merged = df_geo_countries.merge(df_who, left_on='ADMIN', right_on='Country')\r\n",
    "df_merged.head()"
   ],
   "outputs": [],
   "metadata": {}
  },
  {
   "cell_type": "markdown",
   "source": [
    "## Onderdeel 7"
   ],
   "metadata": {}
  },
  {
   "cell_type": "markdown",
   "source": [
    "We gaan de data uit onderdeel 6 gebruiken om de landen een kleur te geven afhankelijk van de gekozen data van de WHO.\n",
    " \n",
    "Gebruik `Choropleth` om deze afbeelding te maken met aanvullende eisen:\n",
    " \n",
    "- Zorg dat alle landen direct volledig in beeld te zien is.\n",
    "- Geen (interactieve) zoom opties.\n",
    "- Een geschikte achtergrondskaart, expliciet gedefineerd.\n",
    "- af te bakenen met lijntjes in een expliciet gedefinieerde ondoorzichtigheid (opacity).\n",
    "- stel de ondoorzichtigheid (opacity) van de opvulling expliciet in op een voor jou optimale waarde.\n",
    "- Defineer een geschikte kleurenpalet naar jouw keuze voor de vlakken.\n",
    "- Voeg een legenda toe (hier is al iets voor geschreven)"
   ],
   "metadata": {}
  },
  {
   "cell_type": "code",
   "execution_count": null,
   "source": [
    "m = folium.Map()\r\n",
    "\r\n",
    "\r\n",
    "## voeg code toe\r\n",
    "def display(m):\r\n",
    "  folium.Choropleth(\r\n",
    "    geo_data=df_merged,\r\n",
    "    name='choropleth',\r\n",
    "    date=df_merged,\r\n",
    "    columns=['infant deaths'],\r\n",
    "    key_on=\"ADMIN\",\r\n",
    "  ).add_to(m)\r\n",
    "  m\r\n",
    "\r\n",
    "# code voor de legenda\r\n",
    "from branca.element import Template, MacroElement\r\n",
    "\r\n",
    "template = \"\"\"\r\n",
    "{% macro html(this, kwargs) %}\r\n",
    "\r\n",
    "<!doctype html>\r\n",
    "<html lang=\"en\">\r\n",
    "<head>\r\n",
    "  <meta charset=\"utf-8\">\r\n",
    "  <meta name=\"viewport\" content=\"width=device-width, initial-scale=1\">\r\n",
    "  <title>jQuery UI Draggable - Default functionality</title>\r\n",
    "  <link rel=\"stylesheet\" href=\"//code.jquery.com/ui/1.12.1/themes/base/jquery-ui.css\">\r\n",
    "\r\n",
    "  <script src=\"https://code.jquery.com/jquery-1.12.4.js\"></script>\r\n",
    "  <script src=\"https://code.jquery.com/ui/1.12.1/jquery-ui.js\"></script>\r\n",
    "  \r\n",
    "  <script>\r\n",
    "  $( function() {\r\n",
    "    $( \"#maplegend\" ).draggable({\r\n",
    "                    start: function (event, ui) {\r\n",
    "                        $(this).css({\r\n",
    "                            right: \"auto\",\r\n",
    "                            top: \"auto\",\r\n",
    "                            bottom: \"auto\"\r\n",
    "                        });\r\n",
    "                    }\r\n",
    "                });\r\n",
    "});\r\n",
    "\r\n",
    "  </script>\r\n",
    "</head>\r\n",
    "<body>\r\n",
    "\r\n",
    " \r\n",
    "<div id='maplegend' class='maplegend' \r\n",
    "    style='position: absolute; z-index:9999; border:2px solid grey; background-color:rgba(255, 255, 255, 0.8);\r\n",
    "     border-radius:6px; padding: 10px; font-size:14px; right: 20px; bottom: 20px;'>\r\n",
    "     \r\n",
    "<div class='legend-title'>Legenda</div>\r\n",
    "<div class='legend-scale'>\r\n",
    "  <ul class='legend-labels'>\r\n",
    "    <li><span style='background:black;opacity:0.7;'></span>N.B.</li>\r\n",
    "\r\n",
    "\r\n",
    "  </ul>\r\n",
    "</div>\r\n",
    "</div>\r\n",
    " \r\n",
    "</body>\r\n",
    "</html>\r\n",
    "\r\n",
    "<style type='text/css'>\r\n",
    "  .maplegend .legend-title {\r\n",
    "    text-align: left;\r\n",
    "    margin-bottom: 5px;\r\n",
    "    font-weight: bold;\r\n",
    "    font-size: 90%;\r\n",
    "    }\r\n",
    "  .maplegend .legend-scale ul {\r\n",
    "    margin: 0;\r\n",
    "    margin-bottom: 5px;\r\n",
    "    padding: 0;\r\n",
    "    float: left;\r\n",
    "    list-style: none;\r\n",
    "    }\r\n",
    "  .maplegend .legend-scale ul li {\r\n",
    "    font-size: 80%;\r\n",
    "    list-style: none;\r\n",
    "    margin-left: 0;\r\n",
    "    line-height: 18px;\r\n",
    "    margin-bottom: 2px;\r\n",
    "    }\r\n",
    "  .maplegend ul.legend-labels li span {\r\n",
    "    display: block;\r\n",
    "    float: left;\r\n",
    "    height: 16px;\r\n",
    "    width: 30px;\r\n",
    "    margin-right: 5px;\r\n",
    "    margin-left: 0;\r\n",
    "    border: 1px solid #999;\r\n",
    "    }\r\n",
    "  .maplegend .legend-source {\r\n",
    "    font-size: 80%;\r\n",
    "    color: #777;\r\n",
    "    clear: both;\r\n",
    "    }\r\n",
    "  .maplegend a {\r\n",
    "    color: #777;\r\n",
    "    }\r\n",
    "</style>\r\n",
    "{% endmacro %}\"\"\"\r\n",
    "\r\n",
    "macro = MacroElement()\r\n",
    "macro._template = Template(template)\r\n",
    "\r\n",
    "m.get_root().add_child(macro)\r\n",
    "\r\n",
    "display(m)"
   ],
   "outputs": [],
   "metadata": {}
  },
  {
   "cell_type": "markdown",
   "source": [
    "# Deel 4: Overig"
   ],
   "metadata": {}
  },
  {
   "cell_type": "markdown",
   "source": [
    "## Onderdeel 8"
   ],
   "metadata": {}
  },
  {
   "cell_type": "markdown",
   "source": [
    "Voor dit onderdeel gaan we even terug naar plotly en sliders / dropdowns.\n",
    "Gebruik een dataset zoals omschreven in: https://plotly.com/python/mapbox-county-choropleth/\n",
    "* Maak een plot met plotly van deze data met een kleurenschema.\n",
    "* Geef de plot een dropdown (bijvoorbeeld van welk kleurenschema) of een slider mee.\n",
    "* Je mag dus ook een ander soort plot maken als je wilt (bijvoorbeeld een bubble map). Hoeft niet, mag wel."
   ],
   "metadata": {}
  },
  {
   "cell_type": "markdown",
   "source": [
    "## Onderdeel 9 (bonus)"
   ],
   "metadata": {}
  },
  {
   "cell_type": "markdown",
   "source": [
    "Voor dit onderdeel mag je de data uit deel 2 of 3 gebruiken maar je mag ook andere data gebruiken of toevoegen. \n",
    "\n",
    "Er zijn nog veel meer functies in Folium die nog niet gebruikt zijn. Gebruik je creativiteit en laat zien dat jij Folium snapt. Gebruik drie functies die we nog niet eerder gezien hebben. "
   ],
   "metadata": {}
  },
  {
   "cell_type": "code",
   "execution_count": null,
   "source": [],
   "outputs": [],
   "metadata": {}
  }
 ],
 "metadata": {
  "kernelspec": {
   "name": "pycharm-6d86f21f",
   "language": "python",
   "display_name": "PyCharm (DataScienceGithub)"
  },
  "language_info": {
   "codemirror_mode": {
    "name": "ipython",
    "version": 3
   },
   "file_extension": ".py",
   "mimetype": "text/x-python",
   "name": "python",
   "nbconvert_exporter": "python",
   "pygments_lexer": "ipython3",
   "version": "3.8.12"
  },
  "interpreter": {
   "hash": "3fbc60d904b750c50af3cfeffd5e9541ea5bcb0fb7dd12428331b783cbeae4a7"
  }
 },
 "nbformat": 4,
 "nbformat_minor": 4
}